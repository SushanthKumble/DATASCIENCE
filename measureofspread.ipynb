{
  "nbformat": 4,
  "nbformat_minor": 0,
  "metadata": {
    "colab": {
      "provenance": [],
      "authorship_tag": "ABX9TyMnwqhBtmDm/sTYnh8HTKWt",
      "include_colab_link": true
    },
    "kernelspec": {
      "name": "python3",
      "display_name": "Python 3"
    },
    "language_info": {
      "name": "python"
    }
  },
  "cells": [
    {
      "cell_type": "markdown",
      "metadata": {
        "id": "view-in-github",
        "colab_type": "text"
      },
      "source": [
        "<a href=\"https://colab.research.google.com/github/SushanthKumble/DATASCIENCE/blob/main/measureofspread.ipynb\" target=\"_parent\"><img src=\"https://colab.research.google.com/assets/colab-badge.svg\" alt=\"Open In Colab\"/></a>"
      ]
    },
    {
      "cell_type": "code",
      "execution_count": 3,
      "metadata": {
        "colab": {
          "base_uri": "https://localhost:8080/",
          "height": 715
        },
        "id": "-Y1fGEV5phoc",
        "outputId": "9ab44e9d-15cb-4c8d-a3ff-26c636ac6c8a"
      },
      "outputs": [
        {
          "output_type": "stream",
          "name": "stdout",
          "text": [
            "Enter the number of elements: 4\n",
            "2\n",
            "8\n",
            "9\n",
            "3\n",
            "The list is: [2, 8, 9, 3]\n",
            "Number of elements: 4\n",
            "The mean of the set is: 5.5\n",
            "Maximum value: 9\n",
            "Minimum value: 2\n",
            "The range of the set is: 7\n",
            "The sorted set is: [2, 3, 8, 9]\n",
            "The variance of the set is: 12.333333333333334\n",
            "The standard deviation is: 3.5118845842842465\n"
          ]
        },
        {
          "output_type": "display_data",
          "data": {
            "text/plain": [
              "<Figure size 640x480 with 1 Axes>"
            ],
            "image/png": "[encoded data removed]"
          },
          "metadata": {}
        }
      ],
      "source": [
        "'''Write a program to perform measure of spread of the data and plot using\n",
        "boxplot.'''\n",
        "import numpy as np\n",
        "import pandas as pd\n",
        "import matplotlib.pyplot as plt\n",
        "\n",
        "data = []\n",
        "nn_range = int(input(\"Enter the number of elements: \"))\n",
        "# Iterating until the range\n",
        "i=0\n",
        "while(i!=nn_range):\n",
        "    ele = int(input())\n",
        "    # Adding the element\n",
        "    data.append(ele)\n",
        "    i=i+1\n",
        "\n",
        "print(\"The list is:\", data)\n",
        "\n",
        "n = len(data)\n",
        "print(\"Number of elements:\", n)\n",
        "\n",
        "total = sum(data)\n",
        "\n",
        "# Finding the mean\n",
        "mean = total / n\n",
        "print(\"The mean of the set is:\", mean)\n",
        "\n",
        "# Calculating the maximum and minimum values\n",
        "max_value = max(data)\n",
        "min_value = min(data)\n",
        "print(\"Maximum value:\", max_value)\n",
        "print(\"Minimum value:\", min_value)\n",
        "\n",
        "# Calculating the range\n",
        "range_x = max_value - min_value\n",
        "print(\"The range of the set is:\", range_x)\n",
        "\n",
        "# Sorting the set\n",
        "sorted_numbers = sorted(data)\n",
        "print(\"The sorted set is:\", sorted_numbers)\n",
        "\n",
        "# Calculating the variance\n",
        "variance = sum((item - mean) ** 2 for item in data) / (n - 1)\n",
        "print(\"The variance of the set is:\", variance)\n",
        "\n",
        "# Calculating the standard deviation\n",
        "std = variance ** 0.5\n",
        "print(\"The standard deviation is:\", std)\n",
        " #Plotting the box plot\n",
        "plt.boxplot(data)\n",
        "plt.title('Box Plot')\n",
        "plt.xlabel('Data')\n",
        "# Adding labels\n",
        "plt.text(1, max_value, f\"Max: {max_value}\", ha='center', va='bottom')\n",
        "plt.text(1, min_value, f\"Min: {min_value}\", ha='center', va='top')\n",
        "plt.text(1, mean, f\"Mean: {mean:.2f}\", ha='right', va='bottom')\n",
        "plt.text(1, mean + std, f\"Std: {std:.2f}\", ha='right', va='bottom')\n",
        "\n",
        "plt.show()8"
      ]
    }
  ]
}