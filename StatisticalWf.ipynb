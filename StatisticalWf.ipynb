{
  "nbformat": 4,
  "nbformat_minor": 0,
  "metadata": {
    "colab": {
      "provenance": [],
      "authorship_tag": "ABX9TyMdxfVpeEMf9HznuhK592Cz",
      "include_colab_link": true
    },
    "kernelspec": {
      "name": "python3",
      "display_name": "Python 3"
    },
    "language_info": {
      "name": "python"
    }
  },
  "cells": [
    {
      "cell_type": "markdown",
      "metadata": {
        "id": "view-in-github",
        "colab_type": "text"
      },
      "source": [
        "<a href=\"https://colab.research.google.com/github/SushanthKumble/DATASCIENCE/blob/main/StatisticalWf.ipynb\" target=\"_parent\"><img src=\"https://colab.research.google.com/assets/colab-badge.svg\" alt=\"Open In Colab\"/></a>"
      ]
    },
    {
      "cell_type": "code",
      "execution_count": 89,
      "metadata": {
        "colab": {
          "base_uri": "https://localhost:8080/",
          "height": 252
        },
        "id": "GbEwB7TVawur",
        "outputId": "9f0cf6c4-b6a6-401c-ced4-7c00b61cee79"
      },
      "outputs": [
        {
          "name": "stdout",
          "output_type": "stream",
          "text": [
            "Enter the number of elements: 5\n"
          ]
        },
        {
          "output_type": "error",
          "ename": "TypeError",
          "evalue": "ignored",
          "traceback": [
            "\u001b[0;31m---------------------------------------------------------------------------\u001b[0m",
            "\u001b[0;31mTypeError\u001b[0m                                 Traceback (most recent call last)",
            "\u001b[0;32m<ipython-input-89-b1c78706b792>\u001b[0m in \u001b[0;36m<cell line: 8>\u001b[0;34m()\u001b[0m\n\u001b[1;32m      6\u001b[0m \u001b[0;34m\u001b[0m\u001b[0m\n\u001b[1;32m      7\u001b[0m \u001b[0;31m# Iterating until the range\u001b[0m\u001b[0;34m\u001b[0m\u001b[0;34m\u001b[0m\u001b[0m\n\u001b[0;32m----> 8\u001b[0;31m \u001b[0;32mfor\u001b[0m \u001b[0mi\u001b[0m \u001b[0;32min\u001b[0m \u001b[0mrange\u001b[0m\u001b[0;34m(\u001b[0m\u001b[0;36m0\u001b[0m\u001b[0;34m,\u001b[0m \u001b[0mnn_range\u001b[0m\u001b[0;34m)\u001b[0m\u001b[0;34m:\u001b[0m\u001b[0;34m\u001b[0m\u001b[0;34m\u001b[0m\u001b[0m\n\u001b[0m\u001b[1;32m      9\u001b[0m     \u001b[0mele\u001b[0m \u001b[0;34m=\u001b[0m \u001b[0mint\u001b[0m\u001b[0;34m(\u001b[0m\u001b[0minput\u001b[0m\u001b[0;34m(\u001b[0m\u001b[0;34m)\u001b[0m\u001b[0;34m)\u001b[0m\u001b[0;34m\u001b[0m\u001b[0;34m\u001b[0m\u001b[0m\n\u001b[1;32m     10\u001b[0m     \u001b[0;31m# Adding the element\u001b[0m\u001b[0;34m\u001b[0m\u001b[0;34m\u001b[0m\u001b[0m\n",
            "\u001b[0;31mTypeError\u001b[0m: 'int' object is not callable"
          ]
        }
      ],
      "source": [
        "import numpy as np\n",
        "import pandas as pd\n",
        "\n",
        "data = []\n",
        "nn_range = int(input(\"Enter the number of elements: \"))\n",
        "\n",
        "# Iterating until the range\n",
        "for i in range(0, nn_range):\n",
        "    ele = int(input())\n",
        "    # Adding the element\n",
        "    data.append(ele)\n",
        "\n",
        "print(\"The list is:\", data)\n",
        "\n",
        "n = len(data)\n",
        "print(\"Number of elements:\", n)\n",
        "\n",
        "total = sum(data)\n",
        "\n",
        "# Finding the mean\n",
        "mean = total / n\n",
        "print(\"The mean of the set is:\", mean)\n",
        "\n",
        "# Calculating the maximum and minimum values\n",
        "max_value = max(data)\n",
        "min_value = min(data)\n",
        "print(\"Maximum value:\", max_value)\n",
        "print(\"Minimum value:\", min_value)\n",
        "\n",
        "# Calculating the range\n",
        "range_x = max_value - min_value\n",
        "print(\"The range of the set is:\", range_x)\n",
        "\n",
        "# Calculating the coefficient of range\n",
        "corange = range_x / (max_value + min_value)\n",
        "print(\"The coefficient of range is:\", corange)\n",
        "\n",
        "# Sorting the set\n",
        "sorted_numbers = sorted(data)\n",
        "print(\"The sorted set is:\", sorted_numbers)\n",
        "\n",
        "# Calculating the median\n",
        "if n % 2 == 0:\n",
        "    mid_index_1 = n // 2\n",
        "    mid_index_2 = mid_index_1 - 1\n",
        "    median = (sorted_numbers[mid_index_1] + sorted_numbers[mid_index_2]) / 2\n",
        "else:\n",
        "    mid_index = n // 2\n",
        "    median = sorted_numbers[mid_index]\n",
        "print(\"The median is:\", median)\n",
        "\n",
        "# Determining the mode\n",
        "frequency = {}\n",
        "for num in data:\n",
        "    if num in frequency:\n",
        "        frequency[num] += 1\n",
        "    else:\n",
        "        frequency[num] = 1\n",
        "\n",
        "max_frequency = max(frequency.values())\n",
        "mode = [num for num, freq in frequency.items() if freq == max_frequency]\n",
        "print(\"Mode:\", mode)\n",
        "\n",
        "# Calculating the variance\n",
        "variance = sum((item - mean) ** 2 for item in data) / (n - 1)\n",
        "print(\"The variance of the set is:\", variance)\n",
        "\n",
        "# Calculating the standard deviation\n",
        "std = variance ** 0.5\n",
        "print(\"The standard deviation is:\", std)\n"
      ]
    }
  ]
}