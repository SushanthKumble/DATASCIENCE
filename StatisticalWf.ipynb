{
  "nbformat": 4,
  "nbformat_minor": 0,
  "metadata": {
    "colab": {
      "provenance": [],
      "authorship_tag": "ABX9TyNYR5ptcv+EjKNk9kSs6PgN",
      "include_colab_link": true
    },
    "kernelspec": {
      "name": "python3",
      "display_name": "Python 3"
    },
    "language_info": {
      "name": "python"
    }
  },
  "cells": [
    {
      "cell_type": "markdown",
      "metadata": {
        "id": "view-in-github",
        "colab_type": "text"
      },
      "source": [
        "<a href=\"https://colab.research.google.com/github/SushanthKumble/DATASCIENCE/blob/main/StatisticalWf.ipynb\" target=\"_parent\"><img src=\"https://colab.research.google.com/assets/colab-badge.svg\" alt=\"Open In Colab\"/></a>"
      ]
    },
    {
      "cell_type": "code",
      "execution_count": 109,
      "metadata": {
        "colab": {
          "base_uri": "https://localhost:8080/"
        },
        "id": "GbEwB7TVawur",
        "outputId": "861dec59-dc5a-4ef0-dfa7-99ac040fa6a5"
      },
      "outputs": [
        {
          "output_type": "stream",
          "name": "stdout",
          "text": [
            "Enter the number of elements: 3\n",
            "8\n",
            "2\n",
            "1\n",
            "The list is: [8, 2, 1]\n",
            "Number of elements: 3\n",
            "The mean of the set is: 3.6666666666666665\n",
            "Maximum value: 8\n",
            "Minimum value: 1\n",
            "The range of the set is: 7\n",
            "The coefficient of range is: 0.7777777777777778\n",
            "The sorted set is: [1, 2, 8]\n",
            "The median is: 2\n",
            "Mode: [8, 2, 1]\n",
            "The variance of the set is: 14.333333333333336\n",
            "The standard deviation is: 3.785938897200183\n"
          ]
        }
      ],
      "source": [
        "import numpy as np\n",
        "import pandas as pd\n",
        "\n",
        "data = []\n",
        "nn_range = int(input(\"Enter the number of elements: \"))\n",
        "# Iterating until the range\n",
        "i=0\n",
        "while(i!=nn_range):\n",
        "    ele = int(input())\n",
        "    # Adding the element\n",
        "    data.append(ele)\n",
        "    i=i+1\n",
        "\n",
        "print(\"The list is:\", data)\n",
        "\n",
        "n = len(data)\n",
        "print(\"Number of elements:\", n)\n",
        "\n",
        "total = sum(data)\n",
        "\n",
        "# Finding the mean\n",
        "mean = total / n\n",
        "print(\"The mean of the set is:\", mean)\n",
        "\n",
        "# Calculating the maximum and minimum values\n",
        "max_value = max(data)\n",
        "min_value = min(data)\n",
        "print(\"Maximum value:\", max_value)\n",
        "print(\"Minimum value:\", min_value)\n",
        "\n",
        "# Calculating the range\n",
        "range_x = max_value - min_value\n",
        "print(\"The range of the set is:\", range_x)\n",
        "\n",
        "# Calculating the coefficient of range\n",
        "corange = range_x / (max_value + min_value)\n",
        "print(\"The coefficient of range is:\", corange)\n",
        "\n",
        "# Sorting the set\n",
        "sorted_numbers = sorted(data)\n",
        "print(\"The sorted set is:\", sorted_numbers)\n",
        "\n",
        "# Calculating the median\n",
        "if n % 2 == 0:\n",
        "    mid_index_1 = n // 2\n",
        "    mid_index_2 = mid_index_1 - 1\n",
        "    median = (sorted_numbers[mid_index_1] + sorted_numbers[mid_index_2]) / 2\n",
        "else:\n",
        "    mid_index = n // 2\n",
        "    median = sorted_numbers[mid_index]\n",
        "print(\"The median is:\", median)\n",
        "\n",
        "# Determining the mode\n",
        "frequency = {}\n",
        "for num in data:\n",
        "    if num in frequency:\n",
        "        frequency[num] += 1\n",
        "    else:\n",
        "        frequency[num] = 1\n",
        "\n",
        "max_frequency = max(frequency.values())\n",
        "mode = [num for num, freq in frequency.items() if freq == max_frequency]\n",
        "print(\"Mode:\", mode)\n",
        "\n",
        "# Calculating the variance\n",
        "variance = sum((item - mean) ** 2 for item in data) / (n - 1)\n",
        "print(\"The variance of the set is:\", variance)\n",
        "\n",
        "# Calculating the standard deviation\n",
        "std = variance ** 0.5\n",
        "print(\"The standard deviation is:\", std)\n"
      ]
    },
    {
      "cell_type": "code",
      "source": [],
      "metadata": {
        "id": "mZVrYFFq_A-d"
      },
      "execution_count": null,
      "outputs": []
    }
  ]
}