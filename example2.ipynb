{
  "nbformat": 4,
  "nbformat_minor": 0,
  "metadata": {
    "colab": {
      "provenance": [],
      "mount_file_id": "1ZCu57nmAeFxbN2tl3d9hfGD_ittJg6TT",
      "authorship_tag": "ABX9TyMxRJX7PXDDy+WaAbBc8DfL",
      "include_colab_link": true
    },
    "kernelspec": {
      "name": "python3",
      "display_name": "Python 3"
    },
    "language_info": {
      "name": "python"
    }
  },
  "cells": [
    {
      "cell_type": "markdown",
      "metadata": {
        "id": "view-in-github",
        "colab_type": "text"
      },
      "source": [
        "<a href=\"https://colab.research.google.com/github/SushanthKumble/DATASCIENCE/blob/main/example2.ipynb\" target=\"_parent\"><img src=\"https://colab.research.google.com/assets/colab-badge.svg\" alt=\"Open In Colab\"/></a>"
      ]
    },
    {
      "cell_type": "code",
      "execution_count": null,
      "metadata": {
        "id": "Wtd2cb4UNIlW"
      },
      "outputs": [],
      "source": []
    },
    {
      "cell_type": "code",
      "source": [],
      "metadata": {
        "id": "vVk9THWaOP78"
      },
      "execution_count": null,
      "outputs": []
    },
    {
      "cell_type": "markdown",
      "source": [
        "PERFORM NUMERICAL ANALYSIS AND DATA MANIPULATION USING THE NUMPY LIBRARY"
      ],
      "metadata": {
        "id": "W3DfWD3sO1M0"
      }
    },
    {
      "cell_type": "code",
      "source": [
        "import pandas as pd\n",
        "import numpy as np\n",
        "arr=np.array([1,2,3,4,5,6,7,8,9,10])\n",
        "print(arr)\n",
        "#printing the second element\n",
        "print(\"the element in the second index is \")\n",
        "print(arr[2])\n",
        "print(\"MANIPULATIONG THE ARRAY\")\n",
        "arr[2]=7\n",
        "print(arr)"
      ],
      "metadata": {
        "colab": {
          "base_uri": "https://localhost:8080/"
        },
        "id": "7N_P-BSSPCm0",
        "outputId": "14b47953-229a-44c8-d0cd-70b8714994d3"
      },
      "execution_count": null,
      "outputs": [
        {
          "output_type": "stream",
          "name": "stdout",
          "text": [
            "[ 1  2  3  4  5  6  7  8  9 10]\n",
            "the element in the second index is \n",
            "3\n",
            "MANIPULATIONG THE ARRAY\n",
            "[ 1  2  7  4  5  6  7  8  9 10]\n"
          ]
        }
      ]
    },
    {
      "cell_type": "markdown",
      "source": [
        "TWO DIMENSIONAL ARRAY CREATION ACCESSING AND MANIPULATING"
      ],
      "metadata": {
        "id": "kUs2zYz4P8xc"
      }
    },
    {
      "cell_type": "code",
      "source": [
        "import numpy as np\n",
        "arr=np.array([[1,2,3,4,5],[6,7,8,9,10]])\n",
        "print(arr)\n",
        "#accessing the array elements\n",
        "print(\"the element in the first row second col is \")\n",
        "print(arr[0][2])\n",
        "#manipulating the array\n",
        "arr[0][2]=7\n",
        "print(arr)\n",
        "#returning he shape\n",
        "arr.shape[0]\n",
        "\n"
      ],
      "metadata": {
        "colab": {
          "base_uri": "https://localhost:8080/"
        },
        "id": "g94bZrgyQLB2",
        "outputId": "c90f8c31-224a-41b7-d4e4-4338ffd98e3d"
      },
      "execution_count": null,
      "outputs": [
        {
          "output_type": "stream",
          "name": "stdout",
          "text": [
            "[[ 1  2  3  4  5]\n",
            " [ 6  7  8  9 10]]\n",
            "the element in the first row second col is \n",
            "3\n",
            "[[ 1  2  7  4  5]\n",
            " [ 6  7  8  9 10]]\n"
          ]
        },
        {
          "output_type": "execute_result",
          "data": {
            "text/plain": [
              "2"
            ]
          },
          "metadata": {},
          "execution_count": 78
        }
      ]
    },
    {
      "cell_type": "markdown",
      "source": [
        "CREATING AN ARRAY USING THE STRING "
      ],
      "metadata": {
        "id": "siICOujCR69N"
      }
    },
    {
      "cell_type": "code",
      "source": [
        "import numpy as np\n",
        "arr=np.array({'india','china','japan'})\n",
        "print(arr)\n"
      ],
      "metadata": {
        "colab": {
          "base_uri": "https://localhost:8080/"
        },
        "id": "IktHTeLhSAht",
        "outputId": "d8a8a9c9-b5c5-4bff-9c9f-150a506f8e75"
      },
      "execution_count": null,
      "outputs": [
        {
          "output_type": "stream",
          "name": "stdout",
          "text": [
            "{'india', 'japan', 'china'}\n"
          ]
        }
      ]
    },
    {
      "cell_type": "markdown",
      "source": [
        "USING THE ARRANGE() AND INSPACE FUNCTION TO EVEN SPACE VALUES IN SPECIFIED INTERVALS"
      ],
      "metadata": {
        "id": "J9T_mvBCSToc"
      }
    },
    {
      "cell_type": "code",
      "source": [
        "import numpy as np\n",
        "#to get the values with difference 2 each(even number upto20)\n",
        "x=np.arange(0,20,2)\n",
        "print(x)\n",
        "print(\"\\n\")\n",
        "#using linespae\n",
        "y=np.linspace(0,2,10)\n",
        "print(y)"
      ],
      "metadata": {
        "colab": {
          "base_uri": "https://localhost:8080/"
        },
        "id": "xspl-Gs0St-S",
        "outputId": "330eee58-96e3-47e2-d7eb-52cdfa13e234"
      },
      "execution_count": null,
      "outputs": [
        {
          "output_type": "stream",
          "name": "stdout",
          "text": [
            "[ 0  2  4  6  8 10 12 14 16 18]\n",
            "\n",
            "\n",
            "[0.         0.22222222 0.44444444 0.66666667 0.88888889 1.11111111\n",
            " 1.33333333 1.55555556 1.77777778 2.        ]\n"
          ]
        }
      ]
    },
    {
      "cell_type": "markdown",
      "source": [
        "CREATE AN ARRAY OF RANDOM VALUES BETWEEN 0 AND1 IN A GIVEN SHAPE"
      ],
      "metadata": {
        "id": "q2MAwFHWUK-z"
      }
    },
    {
      "cell_type": "code",
      "source": [
        "import numpy as np\n",
        "x=np.random.rand(10)\n",
        "print(x)\n",
        "print(\"\\n\")\n",
        "y=np.random.rand(3,4)\n",
        "print(y)"
      ],
      "metadata": {
        "colab": {
          "base_uri": "https://localhost:8080/"
        },
        "id": "tFHJ07mbUXPa",
        "outputId": "6f1f896d-9877-4666-c57f-70c3cee55275"
      },
      "execution_count": null,
      "outputs": [
        {
          "output_type": "stream",
          "name": "stdout",
          "text": [
            "[0.91380338 0.25226864 0.59592322 0.09487354 0.86716062 0.94730329\n",
            " 0.50031668 0.62949139 0.5985675  0.04411232]\n",
            "\n",
            "\n",
            "[[0.94420848 0.20542384 0.12158954 0.53624757]\n",
            " [0.70868816 0.30572488 0.97010485 0.00457335]\n",
            " [0.71157722 0.41582914 0.08407222 0.1880065 ]]\n"
          ]
        }
      ]
    },
    {
      "cell_type": "markdown",
      "source": [
        "CREATE AN ARRAY OF CONSTANT VALUES IN A  GIVEN SHAPE"
      ],
      "metadata": {
        "id": "J_KbVgVLU-6a"
      }
    },
    {
      "cell_type": "code",
      "source": [
        "import numpy as np\n",
        "c = np.full([3, 3], 10.1)\n",
        "print(c)"
      ],
      "metadata": {
        "colab": {
          "base_uri": "https://localhost:8080/"
        },
        "id": "OjnejWPFVXib",
        "outputId": "70bce387-9f3b-4082-d933-091ea2265b1c"
      },
      "execution_count": null,
      "outputs": [
        {
          "output_type": "stream",
          "name": "stdout",
          "text": [
            "[[10.1 10.1 10.1]\n",
            " [10.1 10.1 10.1]\n",
            " [10.1 10.1 10.1]]\n"
          ]
        }
      ]
    },
    {
      "cell_type": "markdown",
      "source": [
        "REPEAT EACH ELEMENT OF AN ARRAY BY A SPECIFIED NUMBER OF TIMES USING REPEAT()"
      ],
      "metadata": {
        "id": "TdS3bgo4VwEu"
      }
    },
    {
      "cell_type": "code",
      "source": [
        "import numpy as np\n",
        "arr=np.array([1,2,3,4,5,6,7,8,9,10])\n",
        "print(np.repeat(arr,3))\n",
        "#using tile function\n",
        "print(\"\\n\")\n",
        "print(np.tile(arr,2))"
      ],
      "metadata": {
        "colab": {
          "base_uri": "https://localhost:8080/"
        },
        "id": "3FHuDeXnV4G1",
        "outputId": "9bb81b00-735d-43d2-9ae9-fc7ba5f9f97a"
      },
      "execution_count": null,
      "outputs": [
        {
          "output_type": "stream",
          "name": "stdout",
          "text": [
            "[ 1  1  1  2  2  2  3  3  3  4  4  4  5  5  5  6  6  6  7  7  7  8  8  8\n",
            "  9  9  9 10 10 10]\n",
            "\n",
            "\n",
            "[ 1  2  3  4  5  6  7  8  9 10  1  2  3  4  5  6  7  8  9 10]\n"
          ]
        }
      ]
    },
    {
      "cell_type": "markdown",
      "source": [
        "CREATE AN IDENTITY MATRIX USING EYE() AND IDENTITY() FUNCTION"
      ],
      "metadata": {
        "id": "T8by6CUyWmNK"
      }
    },
    {
      "cell_type": "code",
      "source": [
        "import numpy as np\n",
        "idm=np.eye(3)\n",
        "print(idm)\n",
        "print(\"\\n\")\n",
        "#using the identity function \n",
        "idm2=np.identity(4)\n",
        "print(idm2)"
      ],
      "metadata": {
        "colab": {
          "base_uri": "https://localhost:8080/"
        },
        "id": "8Y3AVZtZXE1C",
        "outputId": "60cfd296-d29b-4e89-dd13-ccea4f1cdea9"
      },
      "execution_count": null,
      "outputs": [
        {
          "output_type": "stream",
          "name": "stdout",
          "text": [
            "[[1. 0. 0.]\n",
            " [0. 1. 0.]\n",
            " [0. 0. 1.]]\n",
            "\n",
            "\n",
            "[[1. 0. 0. 0.]\n",
            " [0. 1. 0. 0.]\n",
            " [0. 0. 1. 0.]\n",
            " [0. 0. 0. 1.]]\n"
          ]
        }
      ]
    },
    {
      "cell_type": "markdown",
      "source": [
        "CREATE A 5*5 2D ARRAY FOR RANDOM NUMBERS BETWEEN 0 AND 1 AND FIND THE SUM ALONG THE COLUMN AND ROW"
      ],
      "metadata": {
        "id": "O6eTf1hsXsDR"
      }
    },
    {
      "cell_type": "code",
      "source": [
        "import numpy as np\n",
        "arr=np.random.rand(5,5)\n",
        "print(arr)\n",
        "arr2=np.array([[1,2,3,4,5],[6,7,8,9,10]])\n",
        "print(arr2)\n",
        "#finding the sum along the col\n",
        "print(\"the sum along the column is :\\n\")\n",
        "print(np.sum(arr2,axis=1))\n",
        "print(\"the sum along the row is :\\n\")\n",
        "print(np.sum(arr2,axis=0))\n",
        "#determning the mean,median,standard deviation and variance\n",
        "print(\"the mean of arr2 is:\",np.mean(arr2))\n",
        "print(\"the median of arr2 is:\",np.median(arr2))\n",
        "print(\"the standard deviation of arr2 is:\",np.std(arr2))\n",
        "print(\"the variance of arr2 is:\",np.var(arr2))."
      ],
      "metadata": {
        "colab": {
          "base_uri": "https://localhost:8080/"
        },
        "id": "JIFx887-X0c6",
        "outputId": "de2625eb-1f08-4396-b2e9-a783dbc14cec"
      },
      "execution_count": null,
      "outputs": [
        {
          "output_type": "stream",
          "name": "stdout",
          "text": [
            "[[0.83746453 0.45036733 0.63890591 0.08229688 0.1837402 ]\n",
            " [0.71174659 0.822451   0.00816313 0.71312092 0.32865919]\n",
            " [0.93961057 0.84304866 0.04067079 0.81445072 0.00217593]\n",
            " [0.38213107 0.68824032 0.75131221 0.5503964  0.38888529]\n",
            " [0.17558567 0.11669019 0.0430913  0.57777588 0.80406549]]\n",
            "[[ 1  2  3  4  5]\n",
            " [ 6  7  8  9 10]]\n",
            "the sum along the column is :\n",
            "\n",
            "[15 40]\n",
            "the sum along the row is :\n",
            "\n",
            "[ 7  9 11 13 15]\n",
            "the mean of arr2 is: 5.5\n",
            "the median of arr2 is: 5.5\n",
            "the standard deviation of arr2 is: 2.8722813232690143\n",
            "the variance of arr2 is: 8.25\n"
          ]
        }
      ]
    },
    {
      "cell_type": "markdown",
      "source": [
        "APPENDING AN ELEMENT TO THE ARRAY"
      ],
      "metadata": {
        "id": "c5nCSUfmdQBf"
      }
    },
    {
      "cell_type": "code",
      "source": [
        "import numpy as np\n",
        "arr=np.array([1,2,3,4,5,6,7,8,9,10])\n",
        "print(arr)\n",
        "arr=np.append(arr,8)\n",
        "print(\"array after appending:\",arr)\n",
        "arr=np.append(arr,[11,13,12])\n",
        "print(\"array after appending:\",arr)\n",
        "print(np.sort(arr,axis=0))\n"
      ],
      "metadata": {
        "colab": {
          "base_uri": "https://localhost:8080/"
        },
        "id": "_vjBZO5jdUAx",
        "outputId": "e19fd16f-639c-4576-aab9-bac24f129308"
      },
      "execution_count": null,
      "outputs": [
        {
          "output_type": "stream",
          "name": "stdout",
          "text": [
            "[ 1  2  3  4  5  6  7  8  9 10]\n",
            "array after appending: [ 1  2  3  4  5  6  7  8  9 10  8]\n",
            "array after appending: [ 1  2  3  4  5  6  7  8  9 10  8 11 13 12]\n",
            "[ 1  2  3  4  5  6  7  8  8  9 10 11 12 13]\n"
          ]
        }
      ]
    },
    {
      "cell_type": "markdown",
      "source": [
        "DELETE MULTIPLE ELEMENT IN AN ARRAY"
      ],
      "metadata": {
        "id": "Cs4nF5und7Rq"
      }
    },
    {
      "cell_type": "code",
      "source": [
        "import numpy as np\n",
        "arr=np.array([1,2,3,4,5,6,7,8,9,10])\n",
        "print(arr)\n",
        "arr=np.delete(arr,[1,2])\n",
        "print(\"after deletion the array looks like\",arr)"
      ],
      "metadata": {
        "colab": {
          "base_uri": "https://localhost:8080/"
        },
        "id": "VyBpE21jeSUp",
        "outputId": "1181810d-3b36-4e98-93fc-792da542f18a"
      },
      "execution_count": null,
      "outputs": [
        {
          "output_type": "stream",
          "name": "stdout",
          "text": [
            "[ 1  2  3  4  5  6  7  8  9 10]\n",
            "after deletion the array looks like [ 1  4  5  6  7  8  9 10]\n"
          ]
        }
      ]
    },
    {
      "cell_type": "markdown",
      "source": [
        "CONCATENATE ELEMENTS FROM 2 ARRAYS(ROW WISE AND COLUN WISE)"
      ],
      "metadata": {
        "id": "yBOg3kP3exdJ"
      }
    },
    {
      "cell_type": "code",
      "source": [
        "import numpy as np\n",
        "arr1=np.array([1,2,3,4,5,6,7,8,9,10])\n",
        "arr2=np.array([11,12,13])\n",
        "arr=np.concatenate((arr1,arr2),axis=0)\n",
        "print(arr)"
      ],
      "metadata": {
        "colab": {
          "base_uri": "https://localhost:8080/"
        },
        "id": "MnyrEauTe4lI",
        "outputId": "242bcc7b-2499-4967-8313-85f2f921e657"
      },
      "execution_count": null,
      "outputs": [
        {
          "output_type": "stream",
          "name": "stdout",
          "text": [
            "[ 1  2  3  4  5  6  7  8  9 10 11 12 13]\n"
          ]
        }
      ]
    }
  ]
}