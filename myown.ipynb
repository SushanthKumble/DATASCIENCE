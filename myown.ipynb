{
  "nbformat": 4,
  "nbformat_minor": 0,
  "metadata": {
    "colab": {
      "provenance": [],
      "mount_file_id": "1TgznSH6jhICRYp39FlYjsFQyi1lxPrQi",
      "authorship_tag": "ABX9TyNnpg5zYb2QpQnpYn+c25xu",
      "include_colab_link": true
    },
    "kernelspec": {
      "name": "python3",
      "display_name": "Python 3"
    },
    "language_info": {
      "name": "python"
    }
  },
  "cells": [
    {
      "cell_type": "markdown",
      "metadata": {
        "id": "view-in-github",
        "colab_type": "text"
      },
      "source": [
        "<a href=\"https://colab.research.google.com/github/SushanthKumble/DATASCIENCE/blob/main/myown.ipynb\" target=\"_parent\"><img src=\"https://colab.research.google.com/assets/colab-badge.svg\" alt=\"Open In Colab\"/></a>"
      ]
    },
    {
      "cell_type": "code",
      "source": [
        "from google.colab import drive\n",
        "drive.mount('/content/drive')"
      ],
      "metadata": {
        "colab": {
          "base_uri": "https://localhost:8080/"
        },
        "id": "G_o4pT2ukztc",
        "outputId": "d76417a9-48ef-4ea4-bcdd-affadf4af4b4"
      },
      "execution_count": null,
      "outputs": [
        {
          "output_type": "stream",
          "name": "stdout",
          "text": [
            "Drive already mounted at /content/drive; to attempt to forcibly remount, call drive.mount(\"/content/drive\", force_remount=True).\n"
          ]
        }
      ]
    },
    {
      "cell_type": "code",
      "source": [
        "import pandas as pd\n",
        "import numpy as np\n",
        "studentdetail=pd.read_csv(\"/content/drive/MyDrive/std.csv\")\n",
        "studentdetail"
      ],
      "metadata": {
        "colab": {
          "base_uri": "https://localhost:8080/",
          "height": 645
        },
        "id": "raT3mslhlA07",
        "outputId": "89ec60d0-688d-44ae-c7ce-10000da135dd"
      },
      "execution_count": null,
      "outputs": [
        {
          "output_type": "execute_result",
          "data": {
            "text/plain": [
              "    ROLLNO             NAME CLASS  TOTAL marks  TOTALOBTAINED STATUS\n",
              "0       101        SUSHANTH   MSC          100           27.0   FAIL\n",
              "1       102        ABHISHEK   MCA          100           54.0   PASS\n",
              "2       103      JITHESH JK   MSC          100           66.0   PASS\n",
              "3       104  DIVYESH ANCHAN   MCA          100           85.0   PASS\n",
              "4       105         KIRAN K   MBA          100           72.0   PASS\n",
              "5       106       ANVITHA G  MCOM          100           78.0   PASS\n",
              "6       107    SANDHYALAXMI   MSC          100           69.0   PASS\n",
              "7       108        SONITH D   MSC          100           77.0   PASS\n",
              "8       109       SIDDHARTH   MSC          100           36.0   FAIL\n",
              "9       110         GAUTHAM   MSC          100           54.0   PASS\n",
              "10      111         TRIVENI   MSC          100           89.0   PASS\n",
              "11      112         VINITHA   MSC          100           88.0   PASS\n",
              "12      113          ZAKIYA   MCS          100           64.0   PASS\n",
              "13      114         ISHAANA  MCOM          100           91.0   PASS\n",
              "14      115       AKHILESH    BBA          100           95.0   PASS\n",
              "15      116     PRATHEEKSHA   MCA          100           55.0   PASS\n",
              "16      117         MANEESH   MCA          100           65.0   PASS\n",
              "17      118          ANEESH  MCOM          100           33.0   FAIL\n",
              "18      119       NIKSHITHA   MBA          100            NaN    NaN"
            ],
            "text/html": [
              "\n",
              "  <div id=\"df-381d4201-2892-4d70-9194-85503641d681\">\n",
              "    <div class=\"colab-df-container\">\n",
              "      <div>\n",
              "<style scoped>\n",
              "    .dataframe tbody tr th:only-of-type {\n",
              "        vertical-align: middle;\n",
              "    }\n",
              "\n",
              "    .dataframe tbody tr th {\n",
              "        vertical-align: top;\n",
              "    }\n",
              "\n",
              "    .dataframe thead th {\n",
              "        text-align: right;\n",
              "    }\n",
              "</style>\n",
              "<table border=\"1\" class=\"dataframe\">\n",
              "  <thead>\n",
              "    <tr style=\"text-align: right;\">\n",
              "      <th></th>\n",
              "      <th>ROLLNO</th>\n",
              "      <th>NAME</th>\n",
              "      <th>CLASS</th>\n",
              "      <th>TOTAL marks</th>\n",
              "      <th>TOTALOBTAINED</th>\n",
              "      <th>STATUS</th>\n",
              "    </tr>\n",
              "  </thead>\n",
              "  <tbody>\n",
              "    <tr>\n",
              "      <th>0</th>\n",
              "      <td>101</td>\n",
              "      <td>SUSHANTH</td>\n",
              "      <td>MSC</td>\n",
              "      <td>100</td>\n",
              "      <td>27.0</td>\n",
              "      <td>FAIL</td>\n",
              "    </tr>\n",
              "    <tr>\n",
              "      <th>1</th>\n",
              "      <td>102</td>\n",
              "      <td>ABHISHEK</td>\n",
              "      <td>MCA</td>\n",
              "      <td>100</td>\n",
              "      <td>54.0</td>\n",
              "      <td>PASS</td>\n",
              "    </tr>\n",
              "    <tr>\n",
              "      <th>2</th>\n",
              "      <td>103</td>\n",
              "      <td>JITHESH JK</td>\n",
              "      <td>MSC</td>\n",
              "      <td>100</td>\n",
              "      <td>66.0</td>\n",
              "      <td>PASS</td>\n",
              "    </tr>\n",
              "    <tr>\n",
              "      <th>3</th>\n",
              "      <td>104</td>\n",
              "      <td>DIVYESH ANCHAN</td>\n",
              "      <td>MCA</td>\n",
              "      <td>100</td>\n",
              "      <td>85.0</td>\n",
              "      <td>PASS</td>\n",
              "    </tr>\n",
              "    <tr>\n",
              "      <th>4</th>\n",
              "      <td>105</td>\n",
              "      <td>KIRAN K</td>\n",
              "      <td>MBA</td>\n",
              "      <td>100</td>\n",
              "      <td>72.0</td>\n",
              "      <td>PASS</td>\n",
              "    </tr>\n",
              "    <tr>\n",
              "      <th>5</th>\n",
              "      <td>106</td>\n",
              "      <td>ANVITHA G</td>\n",
              "      <td>MCOM</td>\n",
              "      <td>100</td>\n",
              "      <td>78.0</td>\n",
              "      <td>PASS</td>\n",
              "    </tr>\n",
              "    <tr>\n",
              "      <th>6</th>\n",
              "      <td>107</td>\n",
              "      <td>SANDHYALAXMI</td>\n",
              "      <td>MSC</td>\n",
              "      <td>100</td>\n",
              "      <td>69.0</td>\n",
              "      <td>PASS</td>\n",
              "    </tr>\n",
              "    <tr>\n",
              "      <th>7</th>\n",
              "      <td>108</td>\n",
              "      <td>SONITH D</td>\n",
              "      <td>MSC</td>\n",
              "      <td>100</td>\n",
              "      <td>77.0</td>\n",
              "      <td>PASS</td>\n",
              "    </tr>\n",
              "    <tr>\n",
              "      <th>8</th>\n",
              "      <td>109</td>\n",
              "      <td>SIDDHARTH</td>\n",
              "      <td>MSC</td>\n",
              "      <td>100</td>\n",
              "      <td>36.0</td>\n",
              "      <td>FAIL</td>\n",
              "    </tr>\n",
              "    <tr>\n",
              "      <th>9</th>\n",
              "      <td>110</td>\n",
              "      <td>GAUTHAM</td>\n",
              "      <td>MSC</td>\n",
              "      <td>100</td>\n",
              "      <td>54.0</td>\n",
              "      <td>PASS</td>\n",
              "    </tr>\n",
              "    <tr>\n",
              "      <th>10</th>\n",
              "      <td>111</td>\n",
              "      <td>TRIVENI</td>\n",
              "      <td>MSC</td>\n",
              "      <td>100</td>\n",
              "      <td>89.0</td>\n",
              "      <td>PASS</td>\n",
              "    </tr>\n",
              "    <tr>\n",
              "      <th>11</th>\n",
              "      <td>112</td>\n",
              "      <td>VINITHA</td>\n",
              "      <td>MSC</td>\n",
              "      <td>100</td>\n",
              "      <td>88.0</td>\n",
              "      <td>PASS</td>\n",
              "    </tr>\n",
              "    <tr>\n",
              "      <th>12</th>\n",
              "      <td>113</td>\n",
              "      <td>ZAKIYA</td>\n",
              "      <td>MCS</td>\n",
              "      <td>100</td>\n",
              "      <td>64.0</td>\n",
              "      <td>PASS</td>\n",
              "    </tr>\n",
              "    <tr>\n",
              "      <th>13</th>\n",
              "      <td>114</td>\n",
              "      <td>ISHAANA</td>\n",
              "      <td>MCOM</td>\n",
              "      <td>100</td>\n",
              "      <td>91.0</td>\n",
              "      <td>PASS</td>\n",
              "    </tr>\n",
              "    <tr>\n",
              "      <th>14</th>\n",
              "      <td>115</td>\n",
              "      <td>AKHILESH</td>\n",
              "      <td>BBA</td>\n",
              "      <td>100</td>\n",
              "      <td>95.0</td>\n",
              "      <td>PASS</td>\n",
              "    </tr>\n",
              "    <tr>\n",
              "      <th>15</th>\n",
              "      <td>116</td>\n",
              "      <td>PRATHEEKSHA</td>\n",
              "      <td>MCA</td>\n",
              "      <td>100</td>\n",
              "      <td>55.0</td>\n",
              "      <td>PASS</td>\n",
              "    </tr>\n",
              "    <tr>\n",
              "      <th>16</th>\n",
              "      <td>117</td>\n",
              "      <td>MANEESH</td>\n",
              "      <td>MCA</td>\n",
              "      <td>100</td>\n",
              "      <td>65.0</td>\n",
              "      <td>PASS</td>\n",
              "    </tr>\n",
              "    <tr>\n",
              "      <th>17</th>\n",
              "      <td>118</td>\n",
              "      <td>ANEESH</td>\n",
              "      <td>MCOM</td>\n",
              "      <td>100</td>\n",
              "      <td>33.0</td>\n",
              "      <td>FAIL</td>\n",
              "    </tr>\n",
              "    <tr>\n",
              "      <th>18</th>\n",
              "      <td>119</td>\n",
              "      <td>NIKSHITHA</td>\n",
              "      <td>MBA</td>\n",
              "      <td>100</td>\n",
              "      <td>NaN</td>\n",
              "      <td>NaN</td>\n",
              "    </tr>\n",
              "  </tbody>\n",
              "</table>\n",
              "</div>\n",
              "      <button class=\"colab-df-convert\" onclick=\"convertToInteractive('df-381d4201-2892-4d70-9194-85503641d681')\"\n",
              "              title=\"Convert this dataframe to an interactive table.\"\n",
              "              style=\"display:none;\">\n",
              "        \n",
              "  <svg xmlns=\"http://www.w3.org/2000/svg\" height=\"24px\"viewBox=\"0 0 24 24\"\n",
              "       width=\"24px\">\n",
              "    <path d=\"M0 0h24v24H0V0z\" fill=\"none\"/>\n",
              "    <path d=\"M18.56 5.44l.94 2.06.94-2.06 2.06-.94-2.06-.94-.94-2.06-.94 2.06-2.06.94zm-11 1L8.5 8.5l.94-2.06 2.06-.94-2.06-.94L8.5 2.5l-.94 2.06-2.06.94zm10 10l.94 2.06.94-2.06 2.06-.94-2.06-.94-.94-2.06-.94 2.06-2.06.94z\"/><path d=\"M17.41 7.96l-1.37-1.37c-.4-.4-.92-.59-1.43-.59-.52 0-1.04.2-1.43.59L10.3 9.45l-7.72 7.72c-.78.78-.78 2.05 0 2.83L4 21.41c.39.39.9.59 1.41.59.51 0 1.02-.2 1.41-.59l7.78-7.78 2.81-2.81c.8-.78.8-2.07 0-2.86zM5.41 20L4 18.59l7.72-7.72 1.47 1.35L5.41 20z\"/>\n",
              "  </svg>\n",
              "      </button>\n",
              "      \n",
              "  <style>\n",
              "    .colab-df-container {\n",
              "      display:flex;\n",
              "      flex-wrap:wrap;\n",
              "      gap: 12px;\n",
              "    }\n",
              "\n",
              "    .colab-df-convert {\n",
              "      background-color: #E8F0FE;\n",
              "      border: none;\n",
              "      border-radius: 50%;\n",
              "      cursor: pointer;\n",
              "      display: none;\n",
              "      fill: #1967D2;\n",
              "      height: 32px;\n",
              "      padding: 0 0 0 0;\n",
              "      width: 32px;\n",
              "    }\n",
              "\n",
              "    .colab-df-convert:hover {\n",
              "      background-color: #E2EBFA;\n",
              "      box-shadow: 0px 1px 2px rgba(60, 64, 67, 0.3), 0px 1px 3px 1px rgba(60, 64, 67, 0.15);\n",
              "      fill: #174EA6;\n",
              "    }\n",
              "\n",
              "    [theme=dark] .colab-df-convert {\n",
              "      background-color: #3B4455;\n",
              "      fill: #D2E3FC;\n",
              "    }\n",
              "\n",
              "    [theme=dark] .colab-df-convert:hover {\n",
              "      background-color: #434B5C;\n",
              "      box-shadow: 0px 1px 3px 1px rgba(0, 0, 0, 0.15);\n",
              "      filter: drop-shadow(0px 1px 2px rgba(0, 0, 0, 0.3));\n",
              "      fill: #FFFFFF;\n",
              "    }\n",
              "  </style>\n",
              "\n",
              "      <script>\n",
              "        const buttonEl =\n",
              "          document.querySelector('#df-381d4201-2892-4d70-9194-85503641d681 button.colab-df-convert');\n",
              "        buttonEl.style.display =\n",
              "          google.colab.kernel.accessAllowed ? 'block' : 'none';\n",
              "\n",
              "        async function convertToInteractive(key) {\n",
              "          const element = document.querySelector('#df-381d4201-2892-4d70-9194-85503641d681');\n",
              "          const dataTable =\n",
              "            await google.colab.kernel.invokeFunction('convertToInteractive',\n",
              "                                                     [key], {});\n",
              "          if (!dataTable) return;\n",
              "\n",
              "          const docLinkHtml = 'Like what you see? Visit the ' +\n",
              "            '<a target=\"_blank\" href=https://colab.research.google.com/notebooks/data_table.ipynb>data table notebook</a>'\n",
              "            + ' to learn more about interactive tables.';\n",
              "          element.innerHTML = '';\n",
              "          dataTable['output_type'] = 'display_data';\n",
              "          await google.colab.output.renderOutput(dataTable, element);\n",
              "          const docLink = document.createElement('div');\n",
              "          docLink.innerHTML = docLinkHtml;\n",
              "          element.appendChild(docLink);\n",
              "        }\n",
              "      </script>\n",
              "    </div>\n",
              "  </div>\n",
              "  "
            ]
          },
          "metadata": {},
          "execution_count": 2
        }
      ]
    },
    {
      "cell_type": "code",
      "source": [
        "studentdetail.shape"
      ],
      "metadata": {
        "colab": {
          "base_uri": "https://localhost:8080/"
        },
        "id": "e2brsvH8UYMR",
        "outputId": "fbd72d8c-8325-4c6c-970d-a4ca4f6cc861"
      },
      "execution_count": null,
      "outputs": [
        {
          "output_type": "execute_result",
          "data": {
            "text/plain": [
              "(19, 6)"
            ]
          },
          "metadata": {},
          "execution_count": 11
        }
      ]
    },
    {
      "cell_type": "code",
      "source": [
        "import matplotlib.pyplot as plt\n",
        "import pandas as pd\n",
        "studentdetail=pd.read_csv(\"/content/drive/MyDrive/std.csv\")\n",
        "df=pd.DataFrame(studentdetail)\n",
        "X = list(df.iloc[:, 2])\n",
        "Y = list(df.iloc[:, 4])\n",
        "plt.bar(X,Y,color=\"red\")\n",
        "plt.show()"
      ],
      "metadata": {
        "colab": {
          "base_uri": "https://localhost:8080/",
          "height": 430
        },
        "id": "KbCoUkDbmFun",
        "outputId": "ca4fb809-575f-4b15-eb64-f1965b32d665"
      },
      "execution_count": null,
      "outputs": [
        {
          "output_type": "display_data",
          "data": {
            "text/plain": [
              "<Figure size 640x480 with 1 Axes>"
            ],
            "image/png": "[encoded data removed]"
          },
          "metadata": {}
        }
      ]
    },
    {
      "cell_type": "code",
      "source": [
        "import pandas as pd\n",
        "df.describe()\n"
      ],
      "metadata": {
        "colab": {
          "base_uri": "https://localhost:8080/",
          "height": 300
        },
        "id": "uvdJtni1ppmz",
        "outputId": "6b20811e-d192-42f1-d225-8e6c847e4cc3"
      },
      "execution_count": null,
      "outputs": [
        {
          "output_type": "execute_result",
          "data": {
            "text/plain": [
              "          ROLLNO   TOTAL marks  TOTALOBTAINED\n",
              "count   19.000000         19.0      18.000000\n",
              "mean   110.000000        100.0      66.555556\n",
              "std      5.627314          0.0      20.390950\n",
              "min    101.000000        100.0      27.000000\n",
              "25%    105.500000        100.0      54.250000\n",
              "50%    110.000000        100.0      67.500000\n",
              "75%    114.500000        100.0      83.250000\n",
              "max    119.000000        100.0      95.000000"
            ],
            "text/html": [
              "\n",
              "  <div id=\"df-c70a2d08-d988-40c6-a9ac-ead2b42a08b7\">\n",
              "    <div class=\"colab-df-container\">\n",
              "      <div>\n",
              "<style scoped>\n",
              "    .dataframe tbody tr th:only-of-type {\n",
              "        vertical-align: middle;\n",
              "    }\n",
              "\n",
              "    .dataframe tbody tr th {\n",
              "        vertical-align: top;\n",
              "    }\n",
              "\n",
              "    .dataframe thead th {\n",
              "        text-align: right;\n",
              "    }\n",
              "</style>\n",
              "<table border=\"1\" class=\"dataframe\">\n",
              "  <thead>\n",
              "    <tr style=\"text-align: right;\">\n",
              "      <th></th>\n",
              "      <th>ROLLNO</th>\n",
              "      <th>TOTAL marks</th>\n",
              "      <th>TOTALOBTAINED</th>\n",
              "    </tr>\n",
              "  </thead>\n",
              "  <tbody>\n",
              "    <tr>\n",
              "      <th>count</th>\n",
              "      <td>19.000000</td>\n",
              "      <td>19.0</td>\n",
              "      <td>18.000000</td>\n",
              "    </tr>\n",
              "    <tr>\n",
              "      <th>mean</th>\n",
              "      <td>110.000000</td>\n",
              "      <td>100.0</td>\n",
              "      <td>66.555556</td>\n",
              "    </tr>\n",
              "    <tr>\n",
              "      <th>std</th>\n",
              "      <td>5.627314</td>\n",
              "      <td>0.0</td>\n",
              "      <td>20.390950</td>\n",
              "    </tr>\n",
              "    <tr>\n",
              "      <th>min</th>\n",
              "      <td>101.000000</td>\n",
              "      <td>100.0</td>\n",
              "      <td>27.000000</td>\n",
              "    </tr>\n",
              "    <tr>\n",
              "      <th>25%</th>\n",
              "      <td>105.500000</td>\n",
              "      <td>100.0</td>\n",
              "      <td>54.250000</td>\n",
              "    </tr>\n",
              "    <tr>\n",
              "      <th>50%</th>\n",
              "      <td>110.000000</td>\n",
              "      <td>100.0</td>\n",
              "      <td>67.500000</td>\n",
              "    </tr>\n",
              "    <tr>\n",
              "      <th>75%</th>\n",
              "      <td>114.500000</td>\n",
              "      <td>100.0</td>\n",
              "      <td>83.250000</td>\n",
              "    </tr>\n",
              "    <tr>\n",
              "      <th>max</th>\n",
              "      <td>119.000000</td>\n",
              "      <td>100.0</td>\n",
              "      <td>95.000000</td>\n",
              "    </tr>\n",
              "  </tbody>\n",
              "</table>\n",
              "</div>\n",
              "      <button class=\"colab-df-convert\" onclick=\"convertToInteractive('df-c70a2d08-d988-40c6-a9ac-ead2b42a08b7')\"\n",
              "              title=\"Convert this dataframe to an interactive table.\"\n",
              "              style=\"display:none;\">\n",
              "        \n",
              "  <svg xmlns=\"http://www.w3.org/2000/svg\" height=\"24px\"viewBox=\"0 0 24 24\"\n",
              "       width=\"24px\">\n",
              "    <path d=\"M0 0h24v24H0V0z\" fill=\"none\"/>\n",
              "    <path d=\"M18.56 5.44l.94 2.06.94-2.06 2.06-.94-2.06-.94-.94-2.06-.94 2.06-2.06.94zm-11 1L8.5 8.5l.94-2.06 2.06-.94-2.06-.94L8.5 2.5l-.94 2.06-2.06.94zm10 10l.94 2.06.94-2.06 2.06-.94-2.06-.94-.94-2.06-.94 2.06-2.06.94z\"/><path d=\"M17.41 7.96l-1.37-1.37c-.4-.4-.92-.59-1.43-.59-.52 0-1.04.2-1.43.59L10.3 9.45l-7.72 7.72c-.78.78-.78 2.05 0 2.83L4 21.41c.39.39.9.59 1.41.59.51 0 1.02-.2 1.41-.59l7.78-7.78 2.81-2.81c.8-.78.8-2.07 0-2.86zM5.41 20L4 18.59l7.72-7.72 1.47 1.35L5.41 20z\"/>\n",
              "  </svg>\n",
              "      </button>\n",
              "      \n",
              "  <style>\n",
              "    .colab-df-container {\n",
              "      display:flex;\n",
              "      flex-wrap:wrap;\n",
              "      gap: 12px;\n",
              "    }\n",
              "\n",
              "    .colab-df-convert {\n",
              "      background-color: #E8F0FE;\n",
              "      border: none;\n",
              "      border-radius: 50%;\n",
              "      cursor: pointer;\n",
              "      display: none;\n",
              "      fill: #1967D2;\n",
              "      height: 32px;\n",
              "      padding: 0 0 0 0;\n",
              "      width: 32px;\n",
              "    }\n",
              "\n",
              "    .colab-df-convert:hover {\n",
              "      background-color: #E2EBFA;\n",
              "      box-shadow: 0px 1px 2px rgba(60, 64, 67, 0.3), 0px 1px 3px 1px rgba(60, 64, 67, 0.15);\n",
              "      fill: #174EA6;\n",
              "    }\n",
              "\n",
              "    [theme=dark] .colab-df-convert {\n",
              "      background-color: #3B4455;\n",
              "      fill: #D2E3FC;\n",
              "    }\n",
              "\n",
              "    [theme=dark] .colab-df-convert:hover {\n",
              "      background-color: #434B5C;\n",
              "      box-shadow: 0px 1px 3px 1px rgba(0, 0, 0, 0.15);\n",
              "      filter: drop-shadow(0px 1px 2px rgba(0, 0, 0, 0.3));\n",
              "      fill: #FFFFFF;\n",
              "    }\n",
              "  </style>\n",
              "\n",
              "      <script>\n",
              "        const buttonEl =\n",
              "          document.querySelector('#df-c70a2d08-d988-40c6-a9ac-ead2b42a08b7 button.colab-df-convert');\n",
              "        buttonEl.style.display =\n",
              "          google.colab.kernel.accessAllowed ? 'block' : 'none';\n",
              "\n",
              "        async function convertToInteractive(key) {\n",
              "          const element = document.querySelector('#df-c70a2d08-d988-40c6-a9ac-ead2b42a08b7');\n",
              "          const dataTable =\n",
              "            await google.colab.kernel.invokeFunction('convertToInteractive',\n",
              "                                                     [key], {});\n",
              "          if (!dataTable) return;\n",
              "\n",
              "          const docLinkHtml = 'Like what you see? Visit the ' +\n",
              "            '<a target=\"_blank\" href=https://colab.research.google.com/notebooks/data_table.ipynb>data table notebook</a>'\n",
              "            + ' to learn more about interactive tables.';\n",
              "          element.innerHTML = '';\n",
              "          dataTable['output_type'] = 'display_data';\n",
              "          await google.colab.output.renderOutput(dataTable, element);\n",
              "          const docLink = document.createElement('div');\n",
              "          docLink.innerHTML = docLinkHtml;\n",
              "          element.appendChild(docLink);\n",
              "        }\n",
              "      </script>\n",
              "    </div>\n",
              "  </div>\n",
              "  "
            ]
          },
          "metadata": {},
          "execution_count": 4
        }
      ]
    },
    {
      "cell_type": "code",
      "source": [
        "import pandas as pd\n",
        "import numpy as np\n",
        "print(studentdetail.isnull())"
      ],
      "metadata": {
        "colab": {
          "base_uri": "https://localhost:8080/"
        },
        "id": "PWILaKfPqaea",
        "outputId": "b153cb67-9098-48a9-97e6-52b8ff9fe47b"
      },
      "execution_count": null,
      "outputs": [
        {
          "output_type": "stream",
          "name": "stdout",
          "text": [
            "    ROLLNO    NAME  CLASS  TOTAL marks  TOTALOBTAINED  STATUS\n",
            "0     False  False  False        False          False   False\n",
            "1     False  False  False        False          False   False\n",
            "2     False  False  False        False          False   False\n",
            "3     False  False  False        False          False   False\n",
            "4     False  False  False        False          False   False\n",
            "5     False  False  False        False          False   False\n",
            "6     False  False  False        False          False   False\n",
            "7     False  False  False        False          False   False\n",
            "8     False  False  False        False          False   False\n",
            "9     False  False  False        False          False   False\n",
            "10    False  False  False        False          False   False\n",
            "11    False  False  False        False          False   False\n",
            "12    False  False  False        False          False   False\n",
            "13    False  False  False        False          False   False\n",
            "14    False  False  False        False          False   False\n",
            "15    False  False  False        False          False   False\n",
            "16    False  False  False        False          False   False\n",
            "17    False  False  False        False          False   False\n",
            "18    False  False  False        False           True    True\n"
          ]
        }
      ]
    },
    {
      "cell_type": "code",
      "source": [
        "studentdetail.fillna(\"ABSENT\", inplace = True)\n",
        "print(studentdetail)"
      ],
      "metadata": {
        "colab": {
          "base_uri": "https://localhost:8080/"
        },
        "id": "cStKpBhsq0FT",
        "outputId": "60e183e7-0bf6-4959-aeaa-bceb1112eba4"
      },
      "execution_count": null,
      "outputs": [
        {
          "output_type": "stream",
          "name": "stdout",
          "text": [
            "    ROLLNO             NAME CLASS  TOTAL marks TOTALOBTAINED  STATUS\n",
            "0       101        SUSHANTH   MSC          100          27.0    FAIL\n",
            "1       102        ABHISHEK   MCA          100          54.0    PASS\n",
            "2       103      JITHESH JK   MSC          100          66.0    PASS\n",
            "3       104  DIVYESH ANCHAN   MCA          100          85.0    PASS\n",
            "4       105         KIRAN K   MBA          100          72.0    PASS\n",
            "5       106       ANVITHA G  MCOM          100          78.0    PASS\n",
            "6       107    SANDHYALAXMI   MSC          100          69.0    PASS\n",
            "7       108        SONITH D   MSC          100          77.0    PASS\n",
            "8       109       SIDDHARTH   MSC          100          36.0    FAIL\n",
            "9       110         GAUTHAM   MSC          100          54.0    PASS\n",
            "10      111         TRIVENI   MSC          100          89.0    PASS\n",
            "11      112         VINITHA   MSC          100          88.0    PASS\n",
            "12      113          ZAKIYA   MCS          100          64.0    PASS\n",
            "13      114         ISHAANA  MCOM          100          91.0    PASS\n",
            "14      115       AKHILESH    BBA          100          95.0    PASS\n",
            "15      116     PRATHEEKSHA   MCA          100          55.0    PASS\n",
            "16      117         MANEESH   MCA          100          65.0    PASS\n",
            "17      118          ANEESH  MCOM          100          33.0    FAIL\n",
            "18      119       NIKSHITHA   MBA          100        ABSENT  ABSENT\n"
          ]
        }
      ]
    },
    {
      "cell_type": "code",
      "source": [
        "scorr=studentdetail.corr()\n",
        "print(scorr)"
      ],
      "metadata": {
        "colab": {
          "base_uri": "https://localhost:8080/"
        },
        "id": "5ImLAztxtb_8",
        "outputId": "f971327e-0abb-45a3-bb5b-3490b09a8d67"
      },
      "execution_count": null,
      "outputs": [
        {
          "output_type": "stream",
          "name": "stdout",
          "text": [
            "             ROLLNO   TOTAL marks\n",
            "ROLLNO           1.0          NaN\n",
            "TOTAL marks      NaN          NaN\n"
          ]
        },
        {
          "output_type": "stream",
          "name": "stderr",
          "text": [
            "<ipython-input-7-584eaf3435ac>:1: FutureWarning: The default value of numeric_only in DataFrame.corr is deprecated. In a future version, it will default to False. Select only valid columns or specify the value of numeric_only to silence this warning.\n",
            "  scorr=studentdetail.corr()\n"
          ]
        }
      ]
    },
    {
      "cell_type": "code",
      "source": [
        "import pandas as pd\n",
        "df['ROLLNO '].value_counts()"
      ],
      "metadata": {
        "colab": {
          "base_uri": "https://localhost:8080/"
        },
        "id": "LlaaEd18ujSF",
        "outputId": "5274e7ec-ccf3-4ba2-d12f-1a26d39681b3"
      },
      "execution_count": null,
      "outputs": [
        {
          "output_type": "execute_result",
          "data": {
            "text/plain": [
              "101    1\n",
              "111    1\n",
              "118    1\n",
              "117    1\n",
              "116    1\n",
              "115    1\n",
              "114    1\n",
              "113    1\n",
              "112    1\n",
              "110    1\n",
              "102    1\n",
              "109    1\n",
              "108    1\n",
              "107    1\n",
              "106    1\n",
              "105    1\n",
              "104    1\n",
              "103    1\n",
              "119    1\n",
              "Name: ROLLNO , dtype: int64"
            ]
          },
          "metadata": {},
          "execution_count": 8
        }
      ]
    },
    {
      "cell_type": "code",
      "source": [
        "df[\"NAME\"]"
      ],
      "metadata": {
        "colab": {
          "base_uri": "https://localhost:8080/"
        },
        "id": "Ela4OgZwvB36",
        "outputId": "2953ef75-71d7-4a7a-ae54-6cd992a8b265"
      },
      "execution_count": null,
      "outputs": [
        {
          "output_type": "execute_result",
          "data": {
            "text/plain": [
              "0           SUSHANTH\n",
              "1           ABHISHEK\n",
              "2         JITHESH JK\n",
              "3     DIVYESH ANCHAN\n",
              "4            KIRAN K\n",
              "5          ANVITHA G\n",
              "6       SANDHYALAXMI\n",
              "7           SONITH D\n",
              "8          SIDDHARTH\n",
              "9            GAUTHAM\n",
              "10           TRIVENI\n",
              "11           VINITHA\n",
              "12            ZAKIYA\n",
              "13           ISHAANA\n",
              "14         AKHILESH \n",
              "15       PRATHEEKSHA\n",
              "16           MANEESH\n",
              "17            ANEESH\n",
              "18         NIKSHITHA\n",
              "Name: NAME, dtype: object"
            ]
          },
          "metadata": {},
          "execution_count": 9
        }
      ]
    },
    {
      "cell_type": "code",
      "source": [
        "df.hist(figsize=(20,30))"
      ],
      "metadata": {
        "colab": {
          "base_uri": "https://localhost:8080/",
          "height": 1000
        },
        "id": "4MYSNKk8wEEk",
        "outputId": "cb7e9b75-7c68-45c0-cc74-26782b90db2d"
      },
      "execution_count": null,
      "outputs": [
        {
          "output_type": "execute_result",
          "data": {
            "text/plain": [
              "array([[<Axes: title={'center': 'ROLLNO '}>,\n",
              "        <Axes: title={'center': 'TOTAL marks'}>],\n",
              "       [<Axes: title={'center': 'TOTALOBTAINED'}>, <Axes: >]],\n",
              "      dtype=object)"
            ]
          },
          "metadata": {},
          "execution_count": 10
        },
        {
          "output_type": "display_data",
          "data": {
            "text/plain": [
              "<Figure size 2000x3000 with 4 Axes>"
            ],
            "image/png": "[encoded data removed]"
          },
          "metadata": {}
        }
      ]
    },
    {
      "cell_type": "code",
      "source": [
        "studentdetail.describe()"
      ],
      "metadata": {
        "colab": {
          "base_uri": "https://localhost:8080/",
          "height": 300
        },
        "id": "soeHxcboaKod",
        "outputId": "3ce8c06f-f643-46b3-b2ae-811a239a3778"
      },
      "execution_count": null,
      "outputs": [
        {
          "output_type": "execute_result",
          "data": {
            "text/plain": [
              "          ROLLNO   TOTAL marks\n",
              "count   19.000000         19.0\n",
              "mean   110.000000        100.0\n",
              "std      5.627314          0.0\n",
              "min    101.000000        100.0\n",
              "25%    105.500000        100.0\n",
              "50%    110.000000        100.0\n",
              "75%    114.500000        100.0\n",
              "max    119.000000        100.0"
            ],
            "text/html": [
              "\n",
              "  <div id=\"df-8221352b-f919-4206-ba90-1fc99b7a4cca\">\n",
              "    <div class=\"colab-df-container\">\n",
              "      <div>\n",
              "<style scoped>\n",
              "    .dataframe tbody tr th:only-of-type {\n",
              "        vertical-align: middle;\n",
              "    }\n",
              "\n",
              "    .dataframe tbody tr th {\n",
              "        vertical-align: top;\n",
              "    }\n",
              "\n",
              "    .dataframe thead th {\n",
              "        text-align: right;\n",
              "    }\n",
              "</style>\n",
              "<table border=\"1\" class=\"dataframe\">\n",
              "  <thead>\n",
              "    <tr style=\"text-align: right;\">\n",
              "      <th></th>\n",
              "      <th>ROLLNO</th>\n",
              "      <th>TOTAL marks</th>\n",
              "    </tr>\n",
              "  </thead>\n",
              "  <tbody>\n",
              "    <tr>\n",
              "      <th>count</th>\n",
              "      <td>19.000000</td>\n",
              "      <td>19.0</td>\n",
              "    </tr>\n",
              "    <tr>\n",
              "      <th>mean</th>\n",
              "      <td>110.000000</td>\n",
              "      <td>100.0</td>\n",
              "    </tr>\n",
              "    <tr>\n",
              "      <th>std</th>\n",
              "      <td>5.627314</td>\n",
              "      <td>0.0</td>\n",
              "    </tr>\n",
              "    <tr>\n",
              "      <th>min</th>\n",
              "      <td>101.000000</td>\n",
              "      <td>100.0</td>\n",
              "    </tr>\n",
              "    <tr>\n",
              "      <th>25%</th>\n",
              "      <td>105.500000</td>\n",
              "      <td>100.0</td>\n",
              "    </tr>\n",
              "    <tr>\n",
              "      <th>50%</th>\n",
              "      <td>110.000000</td>\n",
              "      <td>100.0</td>\n",
              "    </tr>\n",
              "    <tr>\n",
              "      <th>75%</th>\n",
              "      <td>114.500000</td>\n",
              "      <td>100.0</td>\n",
              "    </tr>\n",
              "    <tr>\n",
              "      <th>max</th>\n",
              "      <td>119.000000</td>\n",
              "      <td>100.0</td>\n",
              "    </tr>\n",
              "  </tbody>\n",
              "</table>\n",
              "</div>\n",
              "      <button class=\"colab-df-convert\" onclick=\"convertToInteractive('df-8221352b-f919-4206-ba90-1fc99b7a4cca')\"\n",
              "              title=\"Convert this dataframe to an interactive table.\"\n",
              "              style=\"display:none;\">\n",
              "        \n",
              "  <svg xmlns=\"http://www.w3.org/2000/svg\" height=\"24px\"viewBox=\"0 0 24 24\"\n",
              "       width=\"24px\">\n",
              "    <path d=\"M0 0h24v24H0V0z\" fill=\"none\"/>\n",
              "    <path d=\"M18.56 5.44l.94 2.06.94-2.06 2.06-.94-2.06-.94-.94-2.06-.94 2.06-2.06.94zm-11 1L8.5 8.5l.94-2.06 2.06-.94-2.06-.94L8.5 2.5l-.94 2.06-2.06.94zm10 10l.94 2.06.94-2.06 2.06-.94-2.06-.94-.94-2.06-.94 2.06-2.06.94z\"/><path d=\"M17.41 7.96l-1.37-1.37c-.4-.4-.92-.59-1.43-.59-.52 0-1.04.2-1.43.59L10.3 9.45l-7.72 7.72c-.78.78-.78 2.05 0 2.83L4 21.41c.39.39.9.59 1.41.59.51 0 1.02-.2 1.41-.59l7.78-7.78 2.81-2.81c.8-.78.8-2.07 0-2.86zM5.41 20L4 18.59l7.72-7.72 1.47 1.35L5.41 20z\"/>\n",
              "  </svg>\n",
              "      </button>\n",
              "      \n",
              "  <style>\n",
              "    .colab-df-container {\n",
              "      display:flex;\n",
              "      flex-wrap:wrap;\n",
              "      gap: 12px;\n",
              "    }\n",
              "\n",
              "    .colab-df-convert {\n",
              "      background-color: #E8F0FE;\n",
              "      border: none;\n",
              "      border-radius: 50%;\n",
              "      cursor: pointer;\n",
              "      display: none;\n",
              "      fill: #1967D2;\n",
              "      height: 32px;\n",
              "      padding: 0 0 0 0;\n",
              "      width: 32px;\n",
              "    }\n",
              "\n",
              "    .colab-df-convert:hover {\n",
              "      background-color: #E2EBFA;\n",
              "      box-shadow: 0px 1px 2px rgba(60, 64, 67, 0.3), 0px 1px 3px 1px rgba(60, 64, 67, 0.15);\n",
              "      fill: #174EA6;\n",
              "    }\n",
              "\n",
              "    [theme=dark] .colab-df-convert {\n",
              "      background-color: #3B4455;\n",
              "      fill: #D2E3FC;\n",
              "    }\n",
              "\n",
              "    [theme=dark] .colab-df-convert:hover {\n",
              "      background-color: #434B5C;\n",
              "      box-shadow: 0px 1px 3px 1px rgba(0, 0, 0, 0.15);\n",
              "      filter: drop-shadow(0px 1px 2px rgba(0, 0, 0, 0.3));\n",
              "      fill: #FFFFFF;\n",
              "    }\n",
              "  </style>\n",
              "\n",
              "      <script>\n",
              "        const buttonEl =\n",
              "          document.querySelector('#df-8221352b-f919-4206-ba90-1fc99b7a4cca button.colab-df-convert');\n",
              "        buttonEl.style.display =\n",
              "          google.colab.kernel.accessAllowed ? 'block' : 'none';\n",
              "\n",
              "        async function convertToInteractive(key) {\n",
              "          const element = document.querySelector('#df-8221352b-f919-4206-ba90-1fc99b7a4cca');\n",
              "          const dataTable =\n",
              "            await google.colab.kernel.invokeFunction('convertToInteractive',\n",
              "                                                     [key], {});\n",
              "          if (!dataTable) return;\n",
              "\n",
              "          const docLinkHtml = 'Like what you see? Visit the ' +\n",
              "            '<a target=\"_blank\" href=https://colab.research.google.com/notebooks/data_table.ipynb>data table notebook</a>'\n",
              "            + ' to learn more about interactive tables.';\n",
              "          element.innerHTML = '';\n",
              "          dataTable['output_type'] = 'display_data';\n",
              "          await google.colab.output.renderOutput(dataTable, element);\n",
              "          const docLink = document.createElement('div');\n",
              "          docLink.innerHTML = docLinkHtml;\n",
              "          element.appendChild(docLink);\n",
              "        }\n",
              "      </script>\n",
              "    </div>\n",
              "  </div>\n",
              "  "
            ]
          },
          "metadata": {},
          "execution_count": 12
        }
      ]
    },
    {
      "cell_type": "code",
      "source": [
        "studentdetail.info()"
      ],
      "metadata": {
        "id": "XVvRpn0WXGsT",
        "colab": {
          "base_uri": "https://localhost:8080/"
        },
        "outputId": "28a4a6cc-fe9a-428c-fc19-934548c079ed"
      },
      "execution_count": null,
      "outputs": [
        {
          "output_type": "stream",
          "name": "stdout",
          "text": [
            "<class 'pandas.core.frame.DataFrame'>\n",
            "RangeIndex: 19 entries, 0 to 18\n",
            "Data columns (total 6 columns):\n",
            " #   Column         Non-Null Count  Dtype \n",
            "---  ------         --------------  ----- \n",
            " 0   ROLLNO         19 non-null     int64 \n",
            " 1   NAME           19 non-null     object\n",
            " 2   CLASS          19 non-null     object\n",
            " 3   TOTAL marks    19 non-null     int64 \n",
            " 4   TOTALOBTAINED  19 non-null     object\n",
            " 5   STATUS         19 non-null     object\n",
            "dtypes: int64(2), object(4)\n",
            "memory usage: 1.0+ KB\n"
          ]
        }
      ]
    },
    {
      "cell_type": "code",
      "source": [
        "studentdetail['CLASS'].astype('category')"
      ],
      "metadata": {
        "colab": {
          "base_uri": "https://localhost:8080/"
        },
        "id": "DwR50KxqaTgi",
        "outputId": "cae1cd87-5b07-49d3-dabc-5ce9d0dfa5ce"
      },
      "execution_count": null,
      "outputs": [
        {
          "output_type": "execute_result",
          "data": {
            "text/plain": [
              "0      MSC\n",
              "1      MCA\n",
              "2      MSC\n",
              "3      MCA\n",
              "4      MBA\n",
              "5     MCOM\n",
              "6      MSC\n",
              "7      MSC\n",
              "8      MSC\n",
              "9      MSC\n",
              "10     MSC\n",
              "11     MSC\n",
              "12     MCS\n",
              "13    MCOM\n",
              "14     BBA\n",
              "15     MCA\n",
              "16     MCA\n",
              "17    MCOM\n",
              "18     MBA\n",
              "Name: CLASS, dtype: category\n",
              "Categories (6, object): ['BBA', 'MBA', 'MCA', 'MCOM', 'MCS', 'MSC']"
            ]
          },
          "metadata": {},
          "execution_count": 14
        }
      ]
    },
    {
      "cell_type": "code",
      "source": [
        "studentdetail['CLASS']=studentdetail['CLASS'].astype('category')\n",
        "studentdetail"
      ],
      "metadata": {
        "colab": {
          "base_uri": "https://localhost:8080/",
          "height": 645
        },
        "id": "2JKWIZWbamyi",
        "outputId": "5fc36087-5c72-44ec-aab3-d15396afd8af"
      },
      "execution_count": null,
      "outputs": [
        {
          "output_type": "execute_result",
          "data": {
            "text/plain": [
              "    ROLLNO             NAME CLASS  TOTAL marks TOTALOBTAINED  STATUS\n",
              "0       101        SUSHANTH   MSC          100          27.0    FAIL\n",
              "1       102        ABHISHEK   MCA          100          54.0    PASS\n",
              "2       103      JITHESH JK   MSC          100          66.0    PASS\n",
              "3       104  DIVYESH ANCHAN   MCA          100          85.0    PASS\n",
              "4       105         KIRAN K   MBA          100          72.0    PASS\n",
              "5       106       ANVITHA G  MCOM          100          78.0    PASS\n",
              "6       107    SANDHYALAXMI   MSC          100          69.0    PASS\n",
              "7       108        SONITH D   MSC          100          77.0    PASS\n",
              "8       109       SIDDHARTH   MSC          100          36.0    FAIL\n",
              "9       110         GAUTHAM   MSC          100          54.0    PASS\n",
              "10      111         TRIVENI   MSC          100          89.0    PASS\n",
              "11      112         VINITHA   MSC          100          88.0    PASS\n",
              "12      113          ZAKIYA   MCS          100          64.0    PASS\n",
              "13      114         ISHAANA  MCOM          100          91.0    PASS\n",
              "14      115       AKHILESH    BBA          100          95.0    PASS\n",
              "15      116     PRATHEEKSHA   MCA          100          55.0    PASS\n",
              "16      117         MANEESH   MCA          100          65.0    PASS\n",
              "17      118          ANEESH  MCOM          100          33.0    FAIL\n",
              "18      119       NIKSHITHA   MBA          100        ABSENT  ABSENT"
            ],
            "text/html": [
              "\n",
              "  <div id=\"df-d9a654b4-853b-4707-80a2-eefc3a6f2ada\">\n",
              "    <div class=\"colab-df-container\">\n",
              "      <div>\n",
              "<style scoped>\n",
              "    .dataframe tbody tr th:only-of-type {\n",
              "        vertical-align: middle;\n",
              "    }\n",
              "\n",
              "    .dataframe tbody tr th {\n",
              "        vertical-align: top;\n",
              "    }\n",
              "\n",
              "    .dataframe thead th {\n",
              "        text-align: right;\n",
              "    }\n",
              "</style>\n",
              "<table border=\"1\" class=\"dataframe\">\n",
              "  <thead>\n",
              "    <tr style=\"text-align: right;\">\n",
              "      <th></th>\n",
              "      <th>ROLLNO</th>\n",
              "      <th>NAME</th>\n",
              "      <th>CLASS</th>\n",
              "      <th>TOTAL marks</th>\n",
              "      <th>TOTALOBTAINED</th>\n",
              "      <th>STATUS</th>\n",
              "    </tr>\n",
              "  </thead>\n",
              "  <tbody>\n",
              "    <tr>\n",
              "      <th>0</th>\n",
              "      <td>101</td>\n",
              "      <td>SUSHANTH</td>\n",
              "      <td>MSC</td>\n",
              "      <td>100</td>\n",
              "      <td>27.0</td>\n",
              "      <td>FAIL</td>\n",
              "    </tr>\n",
              "    <tr>\n",
              "      <th>1</th>\n",
              "      <td>102</td>\n",
              "      <td>ABHISHEK</td>\n",
              "      <td>MCA</td>\n",
              "      <td>100</td>\n",
              "      <td>54.0</td>\n",
              "      <td>PASS</td>\n",
              "    </tr>\n",
              "    <tr>\n",
              "      <th>2</th>\n",
              "      <td>103</td>\n",
              "      <td>JITHESH JK</td>\n",
              "      <td>MSC</td>\n",
              "      <td>100</td>\n",
              "      <td>66.0</td>\n",
              "      <td>PASS</td>\n",
              "    </tr>\n",
              "    <tr>\n",
              "      <th>3</th>\n",
              "      <td>104</td>\n",
              "      <td>DIVYESH ANCHAN</td>\n",
              "      <td>MCA</td>\n",
              "      <td>100</td>\n",
              "      <td>85.0</td>\n",
              "      <td>PASS</td>\n",
              "    </tr>\n",
              "    <tr>\n",
              "      <th>4</th>\n",
              "      <td>105</td>\n",
              "      <td>KIRAN K</td>\n",
              "      <td>MBA</td>\n",
              "      <td>100</td>\n",
              "      <td>72.0</td>\n",
              "      <td>PASS</td>\n",
              "    </tr>\n",
              "    <tr>\n",
              "      <th>5</th>\n",
              "      <td>106</td>\n",
              "      <td>ANVITHA G</td>\n",
              "      <td>MCOM</td>\n",
              "      <td>100</td>\n",
              "      <td>78.0</td>\n",
              "      <td>PASS</td>\n",
              "    </tr>\n",
              "    <tr>\n",
              "      <th>6</th>\n",
              "      <td>107</td>\n",
              "      <td>SANDHYALAXMI</td>\n",
              "      <td>MSC</td>\n",
              "      <td>100</td>\n",
              "      <td>69.0</td>\n",
              "      <td>PASS</td>\n",
              "    </tr>\n",
              "    <tr>\n",
              "      <th>7</th>\n",
              "      <td>108</td>\n",
              "      <td>SONITH D</td>\n",
              "      <td>MSC</td>\n",
              "      <td>100</td>\n",
              "      <td>77.0</td>\n",
              "      <td>PASS</td>\n",
              "    </tr>\n",
              "    <tr>\n",
              "      <th>8</th>\n",
              "      <td>109</td>\n",
              "      <td>SIDDHARTH</td>\n",
              "      <td>MSC</td>\n",
              "      <td>100</td>\n",
              "      <td>36.0</td>\n",
              "      <td>FAIL</td>\n",
              "    </tr>\n",
              "    <tr>\n",
              "      <th>9</th>\n",
              "      <td>110</td>\n",
              "      <td>GAUTHAM</td>\n",
              "      <td>MSC</td>\n",
              "      <td>100</td>\n",
              "      <td>54.0</td>\n",
              "      <td>PASS</td>\n",
              "    </tr>\n",
              "    <tr>\n",
              "      <th>10</th>\n",
              "      <td>111</td>\n",
              "      <td>TRIVENI</td>\n",
              "      <td>MSC</td>\n",
              "      <td>100</td>\n",
              "      <td>89.0</td>\n",
              "      <td>PASS</td>\n",
              "    </tr>\n",
              "    <tr>\n",
              "      <th>11</th>\n",
              "      <td>112</td>\n",
              "      <td>VINITHA</td>\n",
              "      <td>MSC</td>\n",
              "      <td>100</td>\n",
              "      <td>88.0</td>\n",
              "      <td>PASS</td>\n",
              "    </tr>\n",
              "    <tr>\n",
              "      <th>12</th>\n",
              "      <td>113</td>\n",
              "      <td>ZAKIYA</td>\n",
              "      <td>MCS</td>\n",
              "      <td>100</td>\n",
              "      <td>64.0</td>\n",
              "      <td>PASS</td>\n",
              "    </tr>\n",
              "    <tr>\n",
              "      <th>13</th>\n",
              "      <td>114</td>\n",
              "      <td>ISHAANA</td>\n",
              "      <td>MCOM</td>\n",
              "      <td>100</td>\n",
              "      <td>91.0</td>\n",
              "      <td>PASS</td>\n",
              "    </tr>\n",
              "    <tr>\n",
              "      <th>14</th>\n",
              "      <td>115</td>\n",
              "      <td>AKHILESH</td>\n",
              "      <td>BBA</td>\n",
              "      <td>100</td>\n",
              "      <td>95.0</td>\n",
              "      <td>PASS</td>\n",
              "    </tr>\n",
              "    <tr>\n",
              "      <th>15</th>\n",
              "      <td>116</td>\n",
              "      <td>PRATHEEKSHA</td>\n",
              "      <td>MCA</td>\n",
              "      <td>100</td>\n",
              "      <td>55.0</td>\n",
              "      <td>PASS</td>\n",
              "    </tr>\n",
              "    <tr>\n",
              "      <th>16</th>\n",
              "      <td>117</td>\n",
              "      <td>MANEESH</td>\n",
              "      <td>MCA</td>\n",
              "      <td>100</td>\n",
              "      <td>65.0</td>\n",
              "      <td>PASS</td>\n",
              "    </tr>\n",
              "    <tr>\n",
              "      <th>17</th>\n",
              "      <td>118</td>\n",
              "      <td>ANEESH</td>\n",
              "      <td>MCOM</td>\n",
              "      <td>100</td>\n",
              "      <td>33.0</td>\n",
              "      <td>FAIL</td>\n",
              "    </tr>\n",
              "    <tr>\n",
              "      <th>18</th>\n",
              "      <td>119</td>\n",
              "      <td>NIKSHITHA</td>\n",
              "      <td>MBA</td>\n",
              "      <td>100</td>\n",
              "      <td>ABSENT</td>\n",
              "      <td>ABSENT</td>\n",
              "    </tr>\n",
              "  </tbody>\n",
              "</table>\n",
              "</div>\n",
              "      <button class=\"colab-df-convert\" onclick=\"convertToInteractive('df-d9a654b4-853b-4707-80a2-eefc3a6f2ada')\"\n",
              "              title=\"Convert this dataframe to an interactive table.\"\n",
              "              style=\"display:none;\">\n",
              "        \n",
              "  <svg xmlns=\"http://www.w3.org/2000/svg\" height=\"24px\"viewBox=\"0 0 24 24\"\n",
              "       width=\"24px\">\n",
              "    <path d=\"M0 0h24v24H0V0z\" fill=\"none\"/>\n",
              "    <path d=\"M18.56 5.44l.94 2.06.94-2.06 2.06-.94-2.06-.94-.94-2.06-.94 2.06-2.06.94zm-11 1L8.5 8.5l.94-2.06 2.06-.94-2.06-.94L8.5 2.5l-.94 2.06-2.06.94zm10 10l.94 2.06.94-2.06 2.06-.94-2.06-.94-.94-2.06-.94 2.06-2.06.94z\"/><path d=\"M17.41 7.96l-1.37-1.37c-.4-.4-.92-.59-1.43-.59-.52 0-1.04.2-1.43.59L10.3 9.45l-7.72 7.72c-.78.78-.78 2.05 0 2.83L4 21.41c.39.39.9.59 1.41.59.51 0 1.02-.2 1.41-.59l7.78-7.78 2.81-2.81c.8-.78.8-2.07 0-2.86zM5.41 20L4 18.59l7.72-7.72 1.47 1.35L5.41 20z\"/>\n",
              "  </svg>\n",
              "      </button>\n",
              "      \n",
              "  <style>\n",
              "    .colab-df-container {\n",
              "      display:flex;\n",
              "      flex-wrap:wrap;\n",
              "      gap: 12px;\n",
              "    }\n",
              "\n",
              "    .colab-df-convert {\n",
              "      background-color: #E8F0FE;\n",
              "      border: none;\n",
              "      border-radius: 50%;\n",
              "      cursor: pointer;\n",
              "      display: none;\n",
              "      fill: #1967D2;\n",
              "      height: 32px;\n",
              "      padding: 0 0 0 0;\n",
              "      width: 32px;\n",
              "    }\n",
              "\n",
              "    .colab-df-convert:hover {\n",
              "      background-color: #E2EBFA;\n",
              "      box-shadow: 0px 1px 2px rgba(60, 64, 67, 0.3), 0px 1px 3px 1px rgba(60, 64, 67, 0.15);\n",
              "      fill: #174EA6;\n",
              "    }\n",
              "\n",
              "    [theme=dark] .colab-df-convert {\n",
              "      background-color: #3B4455;\n",
              "      fill: #D2E3FC;\n",
              "    }\n",
              "\n",
              "    [theme=dark] .colab-df-convert:hover {\n",
              "      background-color: #434B5C;\n",
              "      box-shadow: 0px 1px 3px 1px rgba(0, 0, 0, 0.15);\n",
              "      filter: drop-shadow(0px 1px 2px rgba(0, 0, 0, 0.3));\n",
              "      fill: #FFFFFF;\n",
              "    }\n",
              "  </style>\n",
              "\n",
              "      <script>\n",
              "        const buttonEl =\n",
              "          document.querySelector('#df-d9a654b4-853b-4707-80a2-eefc3a6f2ada button.colab-df-convert');\n",
              "        buttonEl.style.display =\n",
              "          google.colab.kernel.accessAllowed ? 'block' : 'none';\n",
              "\n",
              "        async function convertToInteractive(key) {\n",
              "          const element = document.querySelector('#df-d9a654b4-853b-4707-80a2-eefc3a6f2ada');\n",
              "          const dataTable =\n",
              "            await google.colab.kernel.invokeFunction('convertToInteractive',\n",
              "                                                     [key], {});\n",
              "          if (!dataTable) return;\n",
              "\n",
              "          const docLinkHtml = 'Like what you see? Visit the ' +\n",
              "            '<a target=\"_blank\" href=https://colab.research.google.com/notebooks/data_table.ipynb>data table notebook</a>'\n",
              "            + ' to learn more about interactive tables.';\n",
              "          element.innerHTML = '';\n",
              "          dataTable['output_type'] = 'display_data';\n",
              "          await google.colab.output.renderOutput(dataTable, element);\n",
              "          const docLink = document.createElement('div');\n",
              "          docLink.innerHTML = docLinkHtml;\n",
              "          element.appendChild(docLink);\n",
              "        }\n",
              "      </script>\n",
              "    </div>\n",
              "  </div>\n",
              "  "
            ]
          },
          "metadata": {},
          "execution_count": 17
        }
      ]
    },
    {
      "cell_type": "markdown",
      "source": [
        "**TYPE CONVERSIONUSING PROGRAMMING CONSTRUCTS**"
      ],
      "metadata": {
        "id": "Ea6ekoB8bTsr"
      }
    },
    {
      "cell_type": "code",
      "source": [
        "for col in['CLASS','STATUS']:\n",
        "  studentdetail[col]=studentdetail[col].astype('category')\n",
        "  studentdetail.info()"
      ],
      "metadata": {
        "colab": {
          "base_uri": "https://localhost:8080/"
        },
        "id": "7-XUZVezbsOJ",
        "outputId": "84f712c5-af76-4c3f-e9bd-bf3a74c636b9"
      },
      "execution_count": null,
      "outputs": [
        {
          "output_type": "stream",
          "name": "stdout",
          "text": [
            "<class 'pandas.core.frame.DataFrame'>\n",
            "RangeIndex: 19 entries, 0 to 18\n",
            "Data columns (total 6 columns):\n",
            " #   Column         Non-Null Count  Dtype   \n",
            "---  ------         --------------  -----   \n",
            " 0   ROLLNO         19 non-null     int64   \n",
            " 1   NAME           19 non-null     object  \n",
            " 2   CLASS          19 non-null     category\n",
            " 3   TOTAL marks    19 non-null     int64   \n",
            " 4   TOTALOBTAINED  19 non-null     object  \n",
            " 5   STATUS         19 non-null     object  \n",
            "dtypes: category(1), int64(2), object(3)\n",
            "memory usage: 1.1+ KB\n",
            "<class 'pandas.core.frame.DataFrame'>\n",
            "RangeIndex: 19 entries, 0 to 18\n",
            "Data columns (total 6 columns):\n",
            " #   Column         Non-Null Count  Dtype   \n",
            "---  ------         --------------  -----   \n",
            " 0   ROLLNO         19 non-null     int64   \n",
            " 1   NAME           19 non-null     object  \n",
            " 2   CLASS          19 non-null     category\n",
            " 3   TOTAL marks    19 non-null     int64   \n",
            " 4   TOTALOBTAINED  19 non-null     object  \n",
            " 5   STATUS         19 non-null     category\n",
            "dtypes: category(2), int64(2), object(2)\n",
            "memory usage: 1.1+ KB\n"
          ]
        }
      ]
    },
    {
      "cell_type": "markdown",
      "source": [
        "**FINDING THE MEAN OF TOTAL MARKS OBTAINED BY THE STUDENTS**"
      ],
      "metadata": {
        "id": "wq6AwP1McT8L"
      }
    },
    {
      "cell_type": "code",
      "source": [
        "import pandas as pd\n",
        "studentdetail=pd.read_csv(\"/content/drive/MyDrive/std.csv\")\n",
        "df=pd.DataFrame(studentdetail)\n",
        "p=df['TOTALOBTAINED'].mean()\n",
        "print(p)\n"
      ],
      "metadata": {
        "colab": {
          "base_uri": "https://localhost:8080/"
        },
        "id": "GzfJBauSccrb",
        "outputId": "2421f85f-5816-4ca9-8049-243499d42cb9"
      },
      "execution_count": null,
      "outputs": [
        {
          "output_type": "stream",
          "name": "stdout",
          "text": [
            "66.55555555555556\n"
          ]
        }
      ]
    },
    {
      "cell_type": "code",
      "source": [
        "q=df['TOTALOBTAINED'].min()\n",
        "q"
      ],
      "metadata": {
        "colab": {
          "base_uri": "https://localhost:8080/"
        },
        "id": "eauEGihXftRL",
        "outputId": "369d8311-3bcb-4cf9-d65a-360892de6cf3"
      },
      "execution_count": null,
      "outputs": [
        {
          "output_type": "execute_result",
          "data": {
            "text/plain": [
              "27.0"
            ]
          },
          "metadata": {},
          "execution_count": 31
        }
      ]
    },
    {
      "cell_type": "markdown",
      "source": [
        "**DETERMINING ALL THE VALUES SUCH AS MIN,MAX,AVG,MEAN TOGETHER**"
      ],
      "metadata": {
        "id": "JV23LgaFf175"
      }
    },
    {
      "cell_type": "code",
      "source": [
        "totmb=df['TOTALOBTAINED']\n",
        "totmb.min(),totmb.max(),totmb.mean()"
      ],
      "metadata": {
        "colab": {
          "base_uri": "https://localhost:8080/"
        },
        "id": "QIwPokJvgBDB",
        "outputId": "a7e617ea-2fa6-434f-ccb1-7c946bfd1808"
      },
      "execution_count": null,
      "outputs": [
        {
          "output_type": "execute_result",
          "data": {
            "text/plain": [
              "(27.0, 95.0, 66.55555555555556)"
            ]
          },
          "metadata": {},
          "execution_count": 35
        }
      ]
    },
    {
      "cell_type": "markdown",
      "source": [
        "**PLOTTING**"
      ],
      "metadata": {
        "id": "G69oPL4lhbpy"
      }
    },
    {
      "cell_type": "code",
      "source": [
        "import seaborn as sns\n",
        "sns.histplot(x=studentdetail['TOTALOBTAINED'])"
      ],
      "metadata": {
        "colab": {
          "base_uri": "https://localhost:8080/",
          "height": 466
        },
        "id": "gQG-i6r5hhXR",
        "outputId": "6afdaceb-b93c-49ff-a52a-a115f0599b73"
      },
      "execution_count": null,
      "outputs": [
        {
          "output_type": "execute_result",
          "data": {
            "text/plain": [
              "<Axes: xlabel='TOTALOBTAINED', ylabel='Count'>"
            ]
          },
          "metadata": {},
          "execution_count": 38
        },
        {
          "output_type": "display_data",
          "data": {
            "text/plain": [
              "<Figure size 640x480 with 1 Axes>"
            ],
            "image/png": "[encoded data removed]"
          },
          "metadata": {}
        }
      ]
    },
    {
      "cell_type": "code",
      "source": [
        "sns.histplot(x=studentdetail['TOTALOBTAINED'],bins=1,color='green')"
      ],
      "metadata": {
        "colab": {
          "base_uri": "https://localhost:8080/",
          "height": 466
        },
        "id": "eRfvxPi-iCxG",
        "outputId": "1229b3a8-320f-4bba-c202-7313cdf36e1a"
      },
      "execution_count": null,
      "outputs": [
        {
          "output_type": "execute_result",
          "data": {
            "text/plain": [
              "<Axes: xlabel='TOTALOBTAINED', ylabel='Count'>"
            ]
          },
          "metadata": {},
          "execution_count": 44
        },
        {
          "output_type": "display_data",
          "data": {
            "text/plain": [
              "<Figure size 640x480 with 1 Axes>"
            ],
            "image/png": "[encoded data removed]"
          },
          "metadata": {}
        }
      ]
    },
    {
      "cell_type": "markdown",
      "source": [
        "**FILTERING DATA**"
      ],
      "metadata": {
        "id": "XZ7LdsXEwcId"
      }
    },
    {
      "cell_type": "code",
      "source": [
        "studentdetail['CLASS']=='MSC'"
      ],
      "metadata": {
        "colab": {
          "base_uri": "https://localhost:8080/"
        },
        "id": "TFD0Cd-pwjh0",
        "outputId": "78f8426c-46e3-4cb2-cb62-ebdfc7da7078"
      },
      "execution_count": null,
      "outputs": [
        {
          "output_type": "execute_result",
          "data": {
            "text/plain": [
              "0      True\n",
              "1     False\n",
              "2      True\n",
              "3     False\n",
              "4     False\n",
              "5     False\n",
              "6      True\n",
              "7      True\n",
              "8      True\n",
              "9      True\n",
              "10     True\n",
              "11     True\n",
              "12    False\n",
              "13    False\n",
              "14    False\n",
              "15    False\n",
              "16    False\n",
              "17    False\n",
              "18    False\n",
              "Name: CLASS, dtype: bool"
            ]
          },
          "metadata": {},
          "execution_count": 45
        }
      ]
    },
    {
      "cell_type": "code",
      "source": [
        "studentdetail[studentdetail['CLASS']=='MSC']"
      ],
      "metadata": {
        "colab": {
          "base_uri": "https://localhost:8080/",
          "height": 300
        },
        "id": "RXJIGsVDw5ME",
        "outputId": "17dca7d9-81e5-413b-9e59-6cfc420ebc5b"
      },
      "execution_count": null,
      "outputs": [
        {
          "output_type": "execute_result",
          "data": {
            "text/plain": [
              "    ROLLNO           NAME CLASS  TOTAL marks  TOTALOBTAINED STATUS\n",
              "0       101      SUSHANTH   MSC          100           27.0   FAIL\n",
              "2       103    JITHESH JK   MSC          100           66.0   PASS\n",
              "6       107  SANDHYALAXMI   MSC          100           69.0   PASS\n",
              "7       108      SONITH D   MSC          100           77.0   PASS\n",
              "8       109     SIDDHARTH   MSC          100           36.0   FAIL\n",
              "9       110       GAUTHAM   MSC          100           54.0   PASS\n",
              "10      111       TRIVENI   MSC          100           89.0   PASS\n",
              "11      112       VINITHA   MSC          100           88.0   PASS"
            ],
            "text/html": [
              "\n",
              "  <div id=\"df-c4b999ac-cfc3-4ac2-9972-9117d1210eac\">\n",
              "    <div class=\"colab-df-container\">\n",
              "      <div>\n",
              "<style scoped>\n",
              "    .dataframe tbody tr th:only-of-type {\n",
              "        vertical-align: middle;\n",
              "    }\n",
              "\n",
              "    .dataframe tbody tr th {\n",
              "        vertical-align: top;\n",
              "    }\n",
              "\n",
              "    .dataframe thead th {\n",
              "        text-align: right;\n",
              "    }\n",
              "</style>\n",
              "<table border=\"1\" class=\"dataframe\">\n",
              "  <thead>\n",
              "    <tr style=\"text-align: right;\">\n",
              "      <th></th>\n",
              "      <th>ROLLNO</th>\n",
              "      <th>NAME</th>\n",
              "      <th>CLASS</th>\n",
              "      <th>TOTAL marks</th>\n",
              "      <th>TOTALOBTAINED</th>\n",
              "      <th>STATUS</th>\n",
              "    </tr>\n",
              "  </thead>\n",
              "  <tbody>\n",
              "    <tr>\n",
              "      <th>0</th>\n",
              "      <td>101</td>\n",
              "      <td>SUSHANTH</td>\n",
              "      <td>MSC</td>\n",
              "      <td>100</td>\n",
              "      <td>27.0</td>\n",
              "      <td>FAIL</td>\n",
              "    </tr>\n",
              "    <tr>\n",
              "      <th>2</th>\n",
              "      <td>103</td>\n",
              "      <td>JITHESH JK</td>\n",
              "      <td>MSC</td>\n",
              "      <td>100</td>\n",
              "      <td>66.0</td>\n",
              "      <td>PASS</td>\n",
              "    </tr>\n",
              "    <tr>\n",
              "      <th>6</th>\n",
              "      <td>107</td>\n",
              "      <td>SANDHYALAXMI</td>\n",
              "      <td>MSC</td>\n",
              "      <td>100</td>\n",
              "      <td>69.0</td>\n",
              "      <td>PASS</td>\n",
              "    </tr>\n",
              "    <tr>\n",
              "      <th>7</th>\n",
              "      <td>108</td>\n",
              "      <td>SONITH D</td>\n",
              "      <td>MSC</td>\n",
              "      <td>100</td>\n",
              "      <td>77.0</td>\n",
              "      <td>PASS</td>\n",
              "    </tr>\n",
              "    <tr>\n",
              "      <th>8</th>\n",
              "      <td>109</td>\n",
              "      <td>SIDDHARTH</td>\n",
              "      <td>MSC</td>\n",
              "      <td>100</td>\n",
              "      <td>36.0</td>\n",
              "      <td>FAIL</td>\n",
              "    </tr>\n",
              "    <tr>\n",
              "      <th>9</th>\n",
              "      <td>110</td>\n",
              "      <td>GAUTHAM</td>\n",
              "      <td>MSC</td>\n",
              "      <td>100</td>\n",
              "      <td>54.0</td>\n",
              "      <td>PASS</td>\n",
              "    </tr>\n",
              "    <tr>\n",
              "      <th>10</th>\n",
              "      <td>111</td>\n",
              "      <td>TRIVENI</td>\n",
              "      <td>MSC</td>\n",
              "      <td>100</td>\n",
              "      <td>89.0</td>\n",
              "      <td>PASS</td>\n",
              "    </tr>\n",
              "    <tr>\n",
              "      <th>11</th>\n",
              "      <td>112</td>\n",
              "      <td>VINITHA</td>\n",
              "      <td>MSC</td>\n",
              "      <td>100</td>\n",
              "      <td>88.0</td>\n",
              "      <td>PASS</td>\n",
              "    </tr>\n",
              "  </tbody>\n",
              "</table>\n",
              "</div>\n",
              "      <button class=\"colab-df-convert\" onclick=\"convertToInteractive('df-c4b999ac-cfc3-4ac2-9972-9117d1210eac')\"\n",
              "              title=\"Convert this dataframe to an interactive table.\"\n",
              "              style=\"display:none;\">\n",
              "        \n",
              "  <svg xmlns=\"http://www.w3.org/2000/svg\" height=\"24px\"viewBox=\"0 0 24 24\"\n",
              "       width=\"24px\">\n",
              "    <path d=\"M0 0h24v24H0V0z\" fill=\"none\"/>\n",
              "    <path d=\"M18.56 5.44l.94 2.06.94-2.06 2.06-.94-2.06-.94-.94-2.06-.94 2.06-2.06.94zm-11 1L8.5 8.5l.94-2.06 2.06-.94-2.06-.94L8.5 2.5l-.94 2.06-2.06.94zm10 10l.94 2.06.94-2.06 2.06-.94-2.06-.94-.94-2.06-.94 2.06-2.06.94z\"/><path d=\"M17.41 7.96l-1.37-1.37c-.4-.4-.92-.59-1.43-.59-.52 0-1.04.2-1.43.59L10.3 9.45l-7.72 7.72c-.78.78-.78 2.05 0 2.83L4 21.41c.39.39.9.59 1.41.59.51 0 1.02-.2 1.41-.59l7.78-7.78 2.81-2.81c.8-.78.8-2.07 0-2.86zM5.41 20L4 18.59l7.72-7.72 1.47 1.35L5.41 20z\"/>\n",
              "  </svg>\n",
              "      </button>\n",
              "      \n",
              "  <style>\n",
              "    .colab-df-container {\n",
              "      display:flex;\n",
              "      flex-wrap:wrap;\n",
              "      gap: 12px;\n",
              "    }\n",
              "\n",
              "    .colab-df-convert {\n",
              "      background-color: #E8F0FE;\n",
              "      border: none;\n",
              "      border-radius: 50%;\n",
              "      cursor: pointer;\n",
              "      display: none;\n",
              "      fill: #1967D2;\n",
              "      height: 32px;\n",
              "      padding: 0 0 0 0;\n",
              "      width: 32px;\n",
              "    }\n",
              "\n",
              "    .colab-df-convert:hover {\n",
              "      background-color: #E2EBFA;\n",
              "      box-shadow: 0px 1px 2px rgba(60, 64, 67, 0.3), 0px 1px 3px 1px rgba(60, 64, 67, 0.15);\n",
              "      fill: #174EA6;\n",
              "    }\n",
              "\n",
              "    [theme=dark] .colab-df-convert {\n",
              "      background-color: #3B4455;\n",
              "      fill: #D2E3FC;\n",
              "    }\n",
              "\n",
              "    [theme=dark] .colab-df-convert:hover {\n",
              "      background-color: #434B5C;\n",
              "      box-shadow: 0px 1px 3px 1px rgba(0, 0, 0, 0.15);\n",
              "      filter: drop-shadow(0px 1px 2px rgba(0, 0, 0, 0.3));\n",
              "      fill: #FFFFFF;\n",
              "    }\n",
              "  </style>\n",
              "\n",
              "      <script>\n",
              "        const buttonEl =\n",
              "          document.querySelector('#df-c4b999ac-cfc3-4ac2-9972-9117d1210eac button.colab-df-convert');\n",
              "        buttonEl.style.display =\n",
              "          google.colab.kernel.accessAllowed ? 'block' : 'none';\n",
              "\n",
              "        async function convertToInteractive(key) {\n",
              "          const element = document.querySelector('#df-c4b999ac-cfc3-4ac2-9972-9117d1210eac');\n",
              "          const dataTable =\n",
              "            await google.colab.kernel.invokeFunction('convertToInteractive',\n",
              "                                                     [key], {});\n",
              "          if (!dataTable) return;\n",
              "\n",
              "          const docLinkHtml = 'Like what you see? Visit the ' +\n",
              "            '<a target=\"_blank\" href=https://colab.research.google.com/notebooks/data_table.ipynb>data table notebook</a>'\n",
              "            + ' to learn more about interactive tables.';\n",
              "          element.innerHTML = '';\n",
              "          dataTable['output_type'] = 'display_data';\n",
              "          await google.colab.output.renderOutput(dataTable, element);\n",
              "          const docLink = document.createElement('div');\n",
              "          docLink.innerHTML = docLinkHtml;\n",
              "          element.appendChild(docLink);\n",
              "        }\n",
              "      </script>\n",
              "    </div>\n",
              "  </div>\n",
              "  "
            ]
          },
          "metadata": {},
          "execution_count": 47
        }
      ]
    },
    {
      "cell_type": "code",
      "source": [
        "passedstudents=studentdetail[studentdetail['STATUS']=='PASS']\n",
        "type(passedstudents)\n",
        "print(passedstudents)"
      ],
      "metadata": {
        "colab": {
          "base_uri": "https://localhost:8080/"
        },
        "id": "B5Vp3z6sxUyl",
        "outputId": "1e442b55-0d74-40dc-b8cd-645f8498bf22"
      },
      "execution_count": null,
      "outputs": [
        {
          "output_type": "stream",
          "name": "stdout",
          "text": [
            "    ROLLNO             NAME CLASS  TOTAL marks  TOTALOBTAINED STATUS\n",
            "1       102        ABHISHEK   MCA          100           54.0   PASS\n",
            "2       103      JITHESH JK   MSC          100           66.0   PASS\n",
            "3       104  DIVYESH ANCHAN   MCA          100           85.0   PASS\n",
            "4       105         KIRAN K   MBA          100           72.0   PASS\n",
            "5       106       ANVITHA G  MCOM          100           78.0   PASS\n",
            "6       107    SANDHYALAXMI   MSC          100           69.0   PASS\n",
            "7       108        SONITH D   MSC          100           77.0   PASS\n",
            "9       110         GAUTHAM   MSC          100           54.0   PASS\n",
            "10      111         TRIVENI   MSC          100           89.0   PASS\n",
            "11      112         VINITHA   MSC          100           88.0   PASS\n",
            "12      113          ZAKIYA   MCS          100           64.0   PASS\n",
            "13      114         ISHAANA  MCOM          100           91.0   PASS\n",
            "14      115       AKHILESH    BBA          100           95.0   PASS\n",
            "15      116     PRATHEEKSHA   MCA          100           55.0   PASS\n",
            "16      117         MANEESH   MCA          100           65.0   PASS\n"
          ]
        }
      ]
    },
    {
      "cell_type": "markdown",
      "source": [
        "**MEAN WITHOUTUSING BUIL IN FORUMLAS**"
      ],
      "metadata": {
        "id": "zahbqf_Y3dli"
      }
    },
    {
      "cell_type": "code",
      "source": [
        "sum=0;\n",
        "for i in range(0,16):\n",
        "  m1=studentdetail['TOTALOBTAINED'][i]\n",
        "  sum=sum+m1\n",
        "sum\n",
        "mean=sum/16\n",
        "mean\n",
        "\n",
        "\n"
      ],
      "metadata": {
        "colab": {
          "base_uri": "https://localhost:8080/"
        },
        "id": "-Ovvva4o20ln",
        "outputId": "633ca3e3-b03d-4f5b-c7fb-60b2013343f6"
      },
      "execution_count": null,
      "outputs": [
        {
          "output_type": "execute_result",
          "data": {
            "text/plain": [
              "68.75"
            ]
          },
          "metadata": {},
          "execution_count": 89
        }
      ]
    },
    {
      "cell_type": "code",
      "source": [
        "passedstudents['TOTALOBTAINED'].mean()"
      ],
      "metadata": {
        "colab": {
          "base_uri": "https://localhost:8080/"
        },
        "id": "n7eVI_N3x-T9",
        "outputId": "9c694bd5-6f9c-4f3e-da65-2bcae8d2b196"
      },
      "execution_count": null,
      "outputs": [
        {
          "output_type": "execute_result",
          "data": {
            "text/plain": [
              "73.46666666666667"
            ]
          },
          "metadata": {},
          "execution_count": 54
        }
      ]
    },
    {
      "cell_type": "code",
      "source": [
        "round(passedstudents['TOTALOBTAINED'].mean(),2)"
      ],
      "metadata": {
        "colab": {
          "base_uri": "https://localhost:8080/"
        },
        "id": "VqJ6V4JqyIX8",
        "outputId": "90ad7220-2c0b-44eb-90ca-75f7c96df93f"
      },
      "execution_count": null,
      "outputs": [
        {
          "output_type": "execute_result",
          "data": {
            "text/plain": [
              "73.47"
            ]
          },
          "metadata": {},
          "execution_count": 57
        }
      ]
    },
    {
      "cell_type": "markdown",
      "source": [
        "**COMPLEX FILTERING CRITERIA**"
      ],
      "metadata": {
        "id": "EsySXf2WyXdU"
      }
    },
    {
      "cell_type": "code",
      "source": [
        "studentdetail[(studentdetail['CLASS']=='MSC')&(studentdetail['STATUS']=='FAIL')]"
      ],
      "metadata": {
        "colab": {
          "base_uri": "https://localhost:8080/",
          "height": 112
        },
        "id": "my1NXCdxyk8O",
        "outputId": "73e11cf1-9ec1-4b0c-9385-5f9df2460376"
      },
      "execution_count": null,
      "outputs": [
        {
          "output_type": "execute_result",
          "data": {
            "text/plain": [
              "   ROLLNO        NAME CLASS  TOTAL marks  TOTALOBTAINED STATUS\n",
              "0      101   SUSHANTH   MSC          100           27.0   FAIL\n",
              "8      109  SIDDHARTH   MSC          100           36.0   FAIL"
            ],
            "text/html": [
              "\n",
              "  <div id=\"df-cde7cf30-7ea4-4f5e-bb60-4700ea40c1ba\">\n",
              "    <div class=\"colab-df-container\">\n",
              "      <div>\n",
              "<style scoped>\n",
              "    .dataframe tbody tr th:only-of-type {\n",
              "        vertical-align: middle;\n",
              "    }\n",
              "\n",
              "    .dataframe tbody tr th {\n",
              "        vertical-align: top;\n",
              "    }\n",
              "\n",
              "    .dataframe thead th {\n",
              "        text-align: right;\n",
              "    }\n",
              "</style>\n",
              "<table border=\"1\" class=\"dataframe\">\n",
              "  <thead>\n",
              "    <tr style=\"text-align: right;\">\n",
              "      <th></th>\n",
              "      <th>ROLLNO</th>\n",
              "      <th>NAME</th>\n",
              "      <th>CLASS</th>\n",
              "      <th>TOTAL marks</th>\n",
              "      <th>TOTALOBTAINED</th>\n",
              "      <th>STATUS</th>\n",
              "    </tr>\n",
              "  </thead>\n",
              "  <tbody>\n",
              "    <tr>\n",
              "      <th>0</th>\n",
              "      <td>101</td>\n",
              "      <td>SUSHANTH</td>\n",
              "      <td>MSC</td>\n",
              "      <td>100</td>\n",
              "      <td>27.0</td>\n",
              "      <td>FAIL</td>\n",
              "    </tr>\n",
              "    <tr>\n",
              "      <th>8</th>\n",
              "      <td>109</td>\n",
              "      <td>SIDDHARTH</td>\n",
              "      <td>MSC</td>\n",
              "      <td>100</td>\n",
              "      <td>36.0</td>\n",
              "      <td>FAIL</td>\n",
              "    </tr>\n",
              "  </tbody>\n",
              "</table>\n",
              "</div>\n",
              "      <button class=\"colab-df-convert\" onclick=\"convertToInteractive('df-cde7cf30-7ea4-4f5e-bb60-4700ea40c1ba')\"\n",
              "              title=\"Convert this dataframe to an interactive table.\"\n",
              "              style=\"display:none;\">\n",
              "        \n",
              "  <svg xmlns=\"http://www.w3.org/2000/svg\" height=\"24px\"viewBox=\"0 0 24 24\"\n",
              "       width=\"24px\">\n",
              "    <path d=\"M0 0h24v24H0V0z\" fill=\"none\"/>\n",
              "    <path d=\"M18.56 5.44l.94 2.06.94-2.06 2.06-.94-2.06-.94-.94-2.06-.94 2.06-2.06.94zm-11 1L8.5 8.5l.94-2.06 2.06-.94-2.06-.94L8.5 2.5l-.94 2.06-2.06.94zm10 10l.94 2.06.94-2.06 2.06-.94-2.06-.94-.94-2.06-.94 2.06-2.06.94z\"/><path d=\"M17.41 7.96l-1.37-1.37c-.4-.4-.92-.59-1.43-.59-.52 0-1.04.2-1.43.59L10.3 9.45l-7.72 7.72c-.78.78-.78 2.05 0 2.83L4 21.41c.39.39.9.59 1.41.59.51 0 1.02-.2 1.41-.59l7.78-7.78 2.81-2.81c.8-.78.8-2.07 0-2.86zM5.41 20L4 18.59l7.72-7.72 1.47 1.35L5.41 20z\"/>\n",
              "  </svg>\n",
              "      </button>\n",
              "      \n",
              "  <style>\n",
              "    .colab-df-container {\n",
              "      display:flex;\n",
              "      flex-wrap:wrap;\n",
              "      gap: 12px;\n",
              "    }\n",
              "\n",
              "    .colab-df-convert {\n",
              "      background-color: #E8F0FE;\n",
              "      border: none;\n",
              "      border-radius: 50%;\n",
              "      cursor: pointer;\n",
              "      display: none;\n",
              "      fill: #1967D2;\n",
              "      height: 32px;\n",
              "      padding: 0 0 0 0;\n",
              "      width: 32px;\n",
              "    }\n",
              "\n",
              "    .colab-df-convert:hover {\n",
              "      background-color: #E2EBFA;\n",
              "      box-shadow: 0px 1px 2px rgba(60, 64, 67, 0.3), 0px 1px 3px 1px rgba(60, 64, 67, 0.15);\n",
              "      fill: #174EA6;\n",
              "    }\n",
              "\n",
              "    [theme=dark] .colab-df-convert {\n",
              "      background-color: #3B4455;\n",
              "      fill: #D2E3FC;\n",
              "    }\n",
              "\n",
              "    [theme=dark] .colab-df-convert:hover {\n",
              "      background-color: #434B5C;\n",
              "      box-shadow: 0px 1px 3px 1px rgba(0, 0, 0, 0.15);\n",
              "      filter: drop-shadow(0px 1px 2px rgba(0, 0, 0, 0.3));\n",
              "      fill: #FFFFFF;\n",
              "    }\n",
              "  </style>\n",
              "\n",
              "      <script>\n",
              "        const buttonEl =\n",
              "          document.querySelector('#df-cde7cf30-7ea4-4f5e-bb60-4700ea40c1ba button.colab-df-convert');\n",
              "        buttonEl.style.display =\n",
              "          google.colab.kernel.accessAllowed ? 'block' : 'none';\n",
              "\n",
              "        async function convertToInteractive(key) {\n",
              "          const element = document.querySelector('#df-cde7cf30-7ea4-4f5e-bb60-4700ea40c1ba');\n",
              "          const dataTable =\n",
              "            await google.colab.kernel.invokeFunction('convertToInteractive',\n",
              "                                                     [key], {});\n",
              "          if (!dataTable) return;\n",
              "\n",
              "          const docLinkHtml = 'Like what you see? Visit the ' +\n",
              "            '<a target=\"_blank\" href=https://colab.research.google.com/notebooks/data_table.ipynb>data table notebook</a>'\n",
              "            + ' to learn more about interactive tables.';\n",
              "          element.innerHTML = '';\n",
              "          dataTable['output_type'] = 'display_data';\n",
              "          await google.colab.output.renderOutput(dataTable, element);\n",
              "          const docLink = document.createElement('div');\n",
              "          docLink.innerHTML = docLinkHtml;\n",
              "          element.appendChild(docLink);\n",
              "        }\n",
              "      </script>\n",
              "    </div>\n",
              "  </div>\n",
              "  "
            ]
          },
          "metadata": {},
          "execution_count": 71
        }
      ]
    },
    {
      "cell_type": "code",
      "source": [
        "studentdetail[studentdetail['TOTALOBTAINED']>=50]"
      ],
      "metadata": {
        "colab": {
          "base_uri": "https://localhost:8080/",
          "height": 520
        },
        "id": "xR8HXMZvzGpV",
        "outputId": "f1468a1a-ecfe-4c1b-cf00-945ea3c9b196"
      },
      "execution_count": null,
      "outputs": [
        {
          "output_type": "execute_result",
          "data": {
            "text/plain": [
              "    ROLLNO             NAME CLASS  TOTAL marks  TOTALOBTAINED STATUS\n",
              "1       102        ABHISHEK   MCA          100           54.0   PASS\n",
              "2       103      JITHESH JK   MSC          100           66.0   PASS\n",
              "3       104  DIVYESH ANCHAN   MCA          100           85.0   PASS\n",
              "4       105         KIRAN K   MBA          100           72.0   PASS\n",
              "5       106       ANVITHA G  MCOM          100           78.0   PASS\n",
              "6       107    SANDHYALAXMI   MSC          100           69.0   PASS\n",
              "7       108        SONITH D   MSC          100           77.0   PASS\n",
              "9       110         GAUTHAM   MSC          100           54.0   PASS\n",
              "10      111         TRIVENI   MSC          100           89.0   PASS\n",
              "11      112         VINITHA   MSC          100           88.0   PASS\n",
              "12      113          ZAKIYA   MCS          100           64.0   PASS\n",
              "13      114         ISHAANA  MCOM          100           91.0   PASS\n",
              "14      115       AKHILESH    BBA          100           95.0   PASS\n",
              "15      116     PRATHEEKSHA   MCA          100           55.0   PASS\n",
              "16      117         MANEESH   MCA          100           65.0   PASS"
            ],
            "text/html": [
              "\n",
              "  <div id=\"df-8fb0bf9b-4dc6-4c32-9fa7-4e5cfc7b3cfd\">\n",
              "    <div class=\"colab-df-container\">\n",
              "      <div>\n",
              "<style scoped>\n",
              "    .dataframe tbody tr th:only-of-type {\n",
              "        vertical-align: middle;\n",
              "    }\n",
              "\n",
              "    .dataframe tbody tr th {\n",
              "        vertical-align: top;\n",
              "    }\n",
              "\n",
              "    .dataframe thead th {\n",
              "        text-align: right;\n",
              "    }\n",
              "</style>\n",
              "<table border=\"1\" class=\"dataframe\">\n",
              "  <thead>\n",
              "    <tr style=\"text-align: right;\">\n",
              "      <th></th>\n",
              "      <th>ROLLNO</th>\n",
              "      <th>NAME</th>\n",
              "      <th>CLASS</th>\n",
              "      <th>TOTAL marks</th>\n",
              "      <th>TOTALOBTAINED</th>\n",
              "      <th>STATUS</th>\n",
              "    </tr>\n",
              "  </thead>\n",
              "  <tbody>\n",
              "    <tr>\n",
              "      <th>1</th>\n",
              "      <td>102</td>\n",
              "      <td>ABHISHEK</td>\n",
              "      <td>MCA</td>\n",
              "      <td>100</td>\n",
              "      <td>54.0</td>\n",
              "      <td>PASS</td>\n",
              "    </tr>\n",
              "    <tr>\n",
              "      <th>2</th>\n",
              "      <td>103</td>\n",
              "      <td>JITHESH JK</td>\n",
              "      <td>MSC</td>\n",
              "      <td>100</td>\n",
              "      <td>66.0</td>\n",
              "      <td>PASS</td>\n",
              "    </tr>\n",
              "    <tr>\n",
              "      <th>3</th>\n",
              "      <td>104</td>\n",
              "      <td>DIVYESH ANCHAN</td>\n",
              "      <td>MCA</td>\n",
              "      <td>100</td>\n",
              "      <td>85.0</td>\n",
              "      <td>PASS</td>\n",
              "    </tr>\n",
              "    <tr>\n",
              "      <th>4</th>\n",
              "      <td>105</td>\n",
              "      <td>KIRAN K</td>\n",
              "      <td>MBA</td>\n",
              "      <td>100</td>\n",
              "      <td>72.0</td>\n",
              "      <td>PASS</td>\n",
              "    </tr>\n",
              "    <tr>\n",
              "      <th>5</th>\n",
              "      <td>106</td>\n",
              "      <td>ANVITHA G</td>\n",
              "      <td>MCOM</td>\n",
              "      <td>100</td>\n",
              "      <td>78.0</td>\n",
              "      <td>PASS</td>\n",
              "    </tr>\n",
              "    <tr>\n",
              "      <th>6</th>\n",
              "      <td>107</td>\n",
              "      <td>SANDHYALAXMI</td>\n",
              "      <td>MSC</td>\n",
              "      <td>100</td>\n",
              "      <td>69.0</td>\n",
              "      <td>PASS</td>\n",
              "    </tr>\n",
              "    <tr>\n",
              "      <th>7</th>\n",
              "      <td>108</td>\n",
              "      <td>SONITH D</td>\n",
              "      <td>MSC</td>\n",
              "      <td>100</td>\n",
              "      <td>77.0</td>\n",
              "      <td>PASS</td>\n",
              "    </tr>\n",
              "    <tr>\n",
              "      <th>9</th>\n",
              "      <td>110</td>\n",
              "      <td>GAUTHAM</td>\n",
              "      <td>MSC</td>\n",
              "      <td>100</td>\n",
              "      <td>54.0</td>\n",
              "      <td>PASS</td>\n",
              "    </tr>\n",
              "    <tr>\n",
              "      <th>10</th>\n",
              "      <td>111</td>\n",
              "      <td>TRIVENI</td>\n",
              "      <td>MSC</td>\n",
              "      <td>100</td>\n",
              "      <td>89.0</td>\n",
              "      <td>PASS</td>\n",
              "    </tr>\n",
              "    <tr>\n",
              "      <th>11</th>\n",
              "      <td>112</td>\n",
              "      <td>VINITHA</td>\n",
              "      <td>MSC</td>\n",
              "      <td>100</td>\n",
              "      <td>88.0</td>\n",
              "      <td>PASS</td>\n",
              "    </tr>\n",
              "    <tr>\n",
              "      <th>12</th>\n",
              "      <td>113</td>\n",
              "      <td>ZAKIYA</td>\n",
              "      <td>MCS</td>\n",
              "      <td>100</td>\n",
              "      <td>64.0</td>\n",
              "      <td>PASS</td>\n",
              "    </tr>\n",
              "    <tr>\n",
              "      <th>13</th>\n",
              "      <td>114</td>\n",
              "      <td>ISHAANA</td>\n",
              "      <td>MCOM</td>\n",
              "      <td>100</td>\n",
              "      <td>91.0</td>\n",
              "      <td>PASS</td>\n",
              "    </tr>\n",
              "    <tr>\n",
              "      <th>14</th>\n",
              "      <td>115</td>\n",
              "      <td>AKHILESH</td>\n",
              "      <td>BBA</td>\n",
              "      <td>100</td>\n",
              "      <td>95.0</td>\n",
              "      <td>PASS</td>\n",
              "    </tr>\n",
              "    <tr>\n",
              "      <th>15</th>\n",
              "      <td>116</td>\n",
              "      <td>PRATHEEKSHA</td>\n",
              "      <td>MCA</td>\n",
              "      <td>100</td>\n",
              "      <td>55.0</td>\n",
              "      <td>PASS</td>\n",
              "    </tr>\n",
              "    <tr>\n",
              "      <th>16</th>\n",
              "      <td>117</td>\n",
              "      <td>MANEESH</td>\n",
              "      <td>MCA</td>\n",
              "      <td>100</td>\n",
              "      <td>65.0</td>\n",
              "      <td>PASS</td>\n",
              "    </tr>\n",
              "  </tbody>\n",
              "</table>\n",
              "</div>\n",
              "      <button class=\"colab-df-convert\" onclick=\"convertToInteractive('df-8fb0bf9b-4dc6-4c32-9fa7-4e5cfc7b3cfd')\"\n",
              "              title=\"Convert this dataframe to an interactive table.\"\n",
              "              style=\"display:none;\">\n",
              "        \n",
              "  <svg xmlns=\"http://www.w3.org/2000/svg\" height=\"24px\"viewBox=\"0 0 24 24\"\n",
              "       width=\"24px\">\n",
              "    <path d=\"M0 0h24v24H0V0z\" fill=\"none\"/>\n",
              "    <path d=\"M18.56 5.44l.94 2.06.94-2.06 2.06-.94-2.06-.94-.94-2.06-.94 2.06-2.06.94zm-11 1L8.5 8.5l.94-2.06 2.06-.94-2.06-.94L8.5 2.5l-.94 2.06-2.06.94zm10 10l.94 2.06.94-2.06 2.06-.94-2.06-.94-.94-2.06-.94 2.06-2.06.94z\"/><path d=\"M17.41 7.96l-1.37-1.37c-.4-.4-.92-.59-1.43-.59-.52 0-1.04.2-1.43.59L10.3 9.45l-7.72 7.72c-.78.78-.78 2.05 0 2.83L4 21.41c.39.39.9.59 1.41.59.51 0 1.02-.2 1.41-.59l7.78-7.78 2.81-2.81c.8-.78.8-2.07 0-2.86zM5.41 20L4 18.59l7.72-7.72 1.47 1.35L5.41 20z\"/>\n",
              "  </svg>\n",
              "      </button>\n",
              "      \n",
              "  <style>\n",
              "    .colab-df-container {\n",
              "      display:flex;\n",
              "      flex-wrap:wrap;\n",
              "      gap: 12px;\n",
              "    }\n",
              "\n",
              "    .colab-df-convert {\n",
              "      background-color: #E8F0FE;\n",
              "      border: none;\n",
              "      border-radius: 50%;\n",
              "      cursor: pointer;\n",
              "      display: none;\n",
              "      fill: #1967D2;\n",
              "      height: 32px;\n",
              "      padding: 0 0 0 0;\n",
              "      width: 32px;\n",
              "    }\n",
              "\n",
              "    .colab-df-convert:hover {\n",
              "      background-color: #E2EBFA;\n",
              "      box-shadow: 0px 1px 2px rgba(60, 64, 67, 0.3), 0px 1px 3px 1px rgba(60, 64, 67, 0.15);\n",
              "      fill: #174EA6;\n",
              "    }\n",
              "\n",
              "    [theme=dark] .colab-df-convert {\n",
              "      background-color: #3B4455;\n",
              "      fill: #D2E3FC;\n",
              "    }\n",
              "\n",
              "    [theme=dark] .colab-df-convert:hover {\n",
              "      background-color: #434B5C;\n",
              "      box-shadow: 0px 1px 3px 1px rgba(0, 0, 0, 0.15);\n",
              "      filter: drop-shadow(0px 1px 2px rgba(0, 0, 0, 0.3));\n",
              "      fill: #FFFFFF;\n",
              "    }\n",
              "  </style>\n",
              "\n",
              "      <script>\n",
              "        const buttonEl =\n",
              "          document.querySelector('#df-8fb0bf9b-4dc6-4c32-9fa7-4e5cfc7b3cfd button.colab-df-convert');\n",
              "        buttonEl.style.display =\n",
              "          google.colab.kernel.accessAllowed ? 'block' : 'none';\n",
              "\n",
              "        async function convertToInteractive(key) {\n",
              "          const element = document.querySelector('#df-8fb0bf9b-4dc6-4c32-9fa7-4e5cfc7b3cfd');\n",
              "          const dataTable =\n",
              "            await google.colab.kernel.invokeFunction('convertToInteractive',\n",
              "                                                     [key], {});\n",
              "          if (!dataTable) return;\n",
              "\n",
              "          const docLinkHtml = 'Like what you see? Visit the ' +\n",
              "            '<a target=\"_blank\" href=https://colab.research.google.com/notebooks/data_table.ipynb>data table notebook</a>'\n",
              "            + ' to learn more about interactive tables.';\n",
              "          element.innerHTML = '';\n",
              "          dataTable['output_type'] = 'display_data';\n",
              "          await google.colab.output.renderOutput(dataTable, element);\n",
              "          const docLink = document.createElement('div');\n",
              "          docLink.innerHTML = docLinkHtml;\n",
              "          element.appendChild(docLink);\n",
              "        }\n",
              "      </script>\n",
              "    </div>\n",
              "  </div>\n",
              "  "
            ]
          },
          "metadata": {},
          "execution_count": 72
        }
      ]
    },
    {
      "cell_type": "code",
      "source": [
        "rank=[95]\n",
        "studentdetail[studentdetail['TOTALOBTAINED'].isin(rank)]"
      ],
      "metadata": {
        "colab": {
          "base_uri": "https://localhost:8080/",
          "height": 81
        },
        "id": "ARgAn4rS0PL2",
        "outputId": "9c097b64-ee46-4889-ce94-ba46d4f382be"
      },
      "execution_count": null,
      "outputs": [
        {
          "output_type": "execute_result",
          "data": {
            "text/plain": [
              "    ROLLNO        NAME CLASS  TOTAL marks  TOTALOBTAINED STATUS\n",
              "14      115  AKHILESH    BBA          100           95.0   PASS"
            ],
            "text/html": [
              "\n",
              "  <div id=\"df-483cbc7e-1929-4de4-bb48-c9fd253a1c44\">\n",
              "    <div class=\"colab-df-container\">\n",
              "      <div>\n",
              "<style scoped>\n",
              "    .dataframe tbody tr th:only-of-type {\n",
              "        vertical-align: middle;\n",
              "    }\n",
              "\n",
              "    .dataframe tbody tr th {\n",
              "        vertical-align: top;\n",
              "    }\n",
              "\n",
              "    .dataframe thead th {\n",
              "        text-align: right;\n",
              "    }\n",
              "</style>\n",
              "<table border=\"1\" class=\"dataframe\">\n",
              "  <thead>\n",
              "    <tr style=\"text-align: right;\">\n",
              "      <th></th>\n",
              "      <th>ROLLNO</th>\n",
              "      <th>NAME</th>\n",
              "      <th>CLASS</th>\n",
              "      <th>TOTAL marks</th>\n",
              "      <th>TOTALOBTAINED</th>\n",
              "      <th>STATUS</th>\n",
              "    </tr>\n",
              "  </thead>\n",
              "  <tbody>\n",
              "    <tr>\n",
              "      <th>14</th>\n",
              "      <td>115</td>\n",
              "      <td>AKHILESH</td>\n",
              "      <td>BBA</td>\n",
              "      <td>100</td>\n",
              "      <td>95.0</td>\n",
              "      <td>PASS</td>\n",
              "    </tr>\n",
              "  </tbody>\n",
              "</table>\n",
              "</div>\n",
              "      <button class=\"colab-df-convert\" onclick=\"convertToInteractive('df-483cbc7e-1929-4de4-bb48-c9fd253a1c44')\"\n",
              "              title=\"Convert this dataframe to an interactive table.\"\n",
              "              style=\"display:none;\">\n",
              "        \n",
              "  <svg xmlns=\"http://www.w3.org/2000/svg\" height=\"24px\"viewBox=\"0 0 24 24\"\n",
              "       width=\"24px\">\n",
              "    <path d=\"M0 0h24v24H0V0z\" fill=\"none\"/>\n",
              "    <path d=\"M18.56 5.44l.94 2.06.94-2.06 2.06-.94-2.06-.94-.94-2.06-.94 2.06-2.06.94zm-11 1L8.5 8.5l.94-2.06 2.06-.94-2.06-.94L8.5 2.5l-.94 2.06-2.06.94zm10 10l.94 2.06.94-2.06 2.06-.94-2.06-.94-.94-2.06-.94 2.06-2.06.94z\"/><path d=\"M17.41 7.96l-1.37-1.37c-.4-.4-.92-.59-1.43-.59-.52 0-1.04.2-1.43.59L10.3 9.45l-7.72 7.72c-.78.78-.78 2.05 0 2.83L4 21.41c.39.39.9.59 1.41.59.51 0 1.02-.2 1.41-.59l7.78-7.78 2.81-2.81c.8-.78.8-2.07 0-2.86zM5.41 20L4 18.59l7.72-7.72 1.47 1.35L5.41 20z\"/>\n",
              "  </svg>\n",
              "      </button>\n",
              "      \n",
              "  <style>\n",
              "    .colab-df-container {\n",
              "      display:flex;\n",
              "      flex-wrap:wrap;\n",
              "      gap: 12px;\n",
              "    }\n",
              "\n",
              "    .colab-df-convert {\n",
              "      background-color: #E8F0FE;\n",
              "      border: none;\n",
              "      border-radius: 50%;\n",
              "      cursor: pointer;\n",
              "      display: none;\n",
              "      fill: #1967D2;\n",
              "      height: 32px;\n",
              "      padding: 0 0 0 0;\n",
              "      width: 32px;\n",
              "    }\n",
              "\n",
              "    .colab-df-convert:hover {\n",
              "      background-color: #E2EBFA;\n",
              "      box-shadow: 0px 1px 2px rgba(60, 64, 67, 0.3), 0px 1px 3px 1px rgba(60, 64, 67, 0.15);\n",
              "      fill: #174EA6;\n",
              "    }\n",
              "\n",
              "    [theme=dark] .colab-df-convert {\n",
              "      background-color: #3B4455;\n",
              "      fill: #D2E3FC;\n",
              "    }\n",
              "\n",
              "    [theme=dark] .colab-df-convert:hover {\n",
              "      background-color: #434B5C;\n",
              "      box-shadow: 0px 1px 3px 1px rgba(0, 0, 0, 0.15);\n",
              "      filter: drop-shadow(0px 1px 2px rgba(0, 0, 0, 0.3));\n",
              "      fill: #FFFFFF;\n",
              "    }\n",
              "  </style>\n",
              "\n",
              "      <script>\n",
              "        const buttonEl =\n",
              "          document.querySelector('#df-483cbc7e-1929-4de4-bb48-c9fd253a1c44 button.colab-df-convert');\n",
              "        buttonEl.style.display =\n",
              "          google.colab.kernel.accessAllowed ? 'block' : 'none';\n",
              "\n",
              "        async function convertToInteractive(key) {\n",
              "          const element = document.querySelector('#df-483cbc7e-1929-4de4-bb48-c9fd253a1c44');\n",
              "          const dataTable =\n",
              "            await google.colab.kernel.invokeFunction('convertToInteractive',\n",
              "                                                     [key], {});\n",
              "          if (!dataTable) return;\n",
              "\n",
              "          const docLinkHtml = 'Like what you see? Visit the ' +\n",
              "            '<a target=\"_blank\" href=https://colab.research.google.com/notebooks/data_table.ipynb>data table notebook</a>'\n",
              "            + ' to learn more about interactive tables.';\n",
              "          element.innerHTML = '';\n",
              "          dataTable['output_type'] = 'display_data';\n",
              "          await google.colab.output.renderOutput(dataTable, element);\n",
              "          const docLink = document.createElement('div');\n",
              "          docLink.innerHTML = docLinkHtml;\n",
              "          element.appendChild(docLink);\n",
              "        }\n",
              "      </script>\n",
              "    </div>\n",
              "  </div>\n",
              "  "
            ]
          },
          "metadata": {},
          "execution_count": 73
        }
      ]
    },
    {
      "cell_type": "code",
      "source": [
        "import pandas as pd\n",
        "import numpy as np\n",
        "\n",
        "# Define the dataset\n",
        "data = [1, 2, 3, 4, 5, 6, 7, 8, 9, 10]\n",
        "\n",
        "# Calculate the mean\n",
        "mean = sum(data) / len(data)\n",
        "\n",
        "# Calculate the median\n",
        "sorted_data = sorted(data)\n",
        "mid = len(sorted_data) // 2\n",
        "median = sorted_data[mid] if len(sorted_data) % 2 != 0 else (sorted_data[mid - 1] + sorted_data[mid]) / 2\n",
        "\n",
        "# Calculate the mode\n",
        "mode = max(set(data), key=data.count)\n",
        "\n",
        "# Calculate the variance\n",
        "variance = sum((x - mean) ** 2 for x in data) / len(data)\n",
        "\n",
        "# Calculate the standard deviation\n",
        "std_dev = np.sqrt(variance)\n",
        "\n",
        "# Print the results\n",
        "print(\"Mean:\", mean)\n",
        "print(\"Median:\", median)\n",
        "print(\"Mode:\", mode)\n",
        "print(\"Variance:\", variance)\n",
        "print(\"Standard Deviation:\", std_dev)\n"
      ],
      "metadata": {
        "colab": {
          "base_uri": "https://localhost:8080/"
        },
        "id": "cQaC8Qjd-yoY",
        "outputId": "a9df7d19-0939-453f-dc90-e91342086d01"
      },
      "execution_count": null,
      "outputs": [
        {
          "output_type": "stream",
          "name": "stdout",
          "text": [
            "Mean: 5.5\n",
            "Median: 5.5\n",
            "Mode: 1\n",
            "Variance: 8.25\n",
            "Standard Deviation: 2.8722813232690143\n"
          ]
        }
      ]
    }
  ]
}